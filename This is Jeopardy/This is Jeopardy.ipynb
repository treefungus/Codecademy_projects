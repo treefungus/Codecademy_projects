{
 "cells": [
  {
   "cell_type": "markdown",
   "metadata": {},
   "source": [
    "# This is Jeopardy!"
   ]
  },
  {
   "cell_type": "markdown",
   "metadata": {},
   "source": [
    "#### Overview"
   ]
  },
  {
   "cell_type": "markdown",
   "metadata": {},
   "source": [
    "This project is slightly different than others you have encountered thus far. Instead of a step-by-step tutorial, this project contains a series of open-ended requirements which describe the project you'll be building. There are many possible ways to correctly fulfill all of these requirements, and you should expect to use the internet, Codecademy, and/or other resources when you encounter a problem that you cannot easily solve."
   ]
  },
  {
   "cell_type": "markdown",
   "metadata": {},
   "source": [
    "#### Project Goals"
   ]
  },
  {
   "cell_type": "markdown",
   "metadata": {},
   "source": [
    "You will work to write several functions that investigate a dataset of _Jeopardy!_ questions and answers. Filter the dataset for topics that you're interested in, compute the average difficulty of those questions, and train to become the next Jeopardy champion!"
   ]
  },
  {
   "cell_type": "markdown",
   "metadata": {},
   "source": [
    "## Prerequisites"
   ]
  },
  {
   "cell_type": "markdown",
   "metadata": {},
   "source": [
    "In order to complete this project, you should have completed the Pandas lessons in the <a href=\"https://www.codecademy.com/learn/paths/analyze-data-with-python\">Analyze Data with Python Skill Path</a>. You can also find those lessons in the <a href=\"https://www.codecademy.com/learn/data-processing-pandas\">Data Analysis with Pandas course</a> or the <a href=\"https://www.codecademy.com/learn/paths/data-science/\">Data Scientist Career Path</a>.\n",
    "\n",
    "Finally, the <a href=\"https://www.codecademy.com/learn/practical-data-cleaning\">Practical Data Cleaning</a> course may also be helpful."
   ]
  },
  {
   "cell_type": "markdown",
   "metadata": {},
   "source": [
    "## Project Requirements"
   ]
  },
  {
   "cell_type": "markdown",
   "metadata": {},
   "source": [
    "1. We've provided a csv file containing data about the game show _Jeopardy!_ in a file named `jeopardy.csv`. Load the data into a DataFrame and investigate its contents. Try to print out specific columns.\n",
    "\n",
    "   Note that in order to make this project as \"real-world\" as possible, we haven't modified the data at all - we're giving it to you exactly how we found it. As a result, this data isn't as \"clean\" as the datasets you normally find on Codecademy. More specifically, there's something odd about the column names. After you figure out the problem with the column names, you may want to rename them to make your life easier for the rest of the project.\n",
    "   \n",
    "   In order to display the full contents of a column, we've added this line of code for you:\n",
    "   \n",
    "   ```py\n",
    "   pd.set_option('display.max_colwidth', None)\n",
    "   ```"
   ]
  },
  {
   "cell_type": "code",
   "execution_count": 1,
   "metadata": {
    "tags": []
   },
   "outputs": [
    {
     "name": "stdout",
     "output_type": "stream",
     "text": [
      "Number of rows:\n",
      "216930\n",
      "Unique show numbers:\n",
      "[4680 5957 3751 ... 5070 5195 4999]\n",
      "['Jeopardy!' 'Double Jeopardy!' 'Final Jeopardy!' 'Tiebreaker']\n",
      "['$200' '$400' '$600' '$800' '$2,000' '$1000' '$1200' '$1600' '$2000'\n",
      " '$3,200' 'no value' '$5,000' '$100' '$300' '$500' '$1,000' '$1,500'\n",
      " '$1,200' '$4,800' '$1,800' '$1,100' '$2,200' '$3,400' '$3,000' '$4,000'\n",
      " '$1,600' '$6,800' '$1,900' '$3,100' '$700' '$1,400' '$2,800' '$8,000'\n",
      " '$6,000' '$2,400' '$12,000' '$3,800' '$2,500' '$6,200' '$10,000' '$7,000'\n",
      " '$1,492' '$7,400' '$1,300' '$7,200' '$2,600' '$3,300' '$5,400' '$4,500'\n",
      " '$2,100' '$900' '$3,600' '$2,127' '$367' '$4,400' '$3,500' '$2,900'\n",
      " '$3,900' '$4,100' '$4,600' '$10,800' '$2,300' '$5,600' '$1,111' '$8,200'\n",
      " '$5,800' '$750' '$7,500' '$1,700' '$9,000' '$6,100' '$1,020' '$4,700'\n",
      " '$2,021' '$5,200' '$3,389' '$4,200' '$5' '$2,001' '$1,263' '$4,637'\n",
      " '$3,201' '$6,600' '$3,700' '$2,990' '$5,500' '$14,000' '$2,700' '$6,400'\n",
      " '$350' '$8,600' '$6,300' '$250' '$3,989' '$8,917' '$9,500' '$1,246'\n",
      " '$6,435' '$8,800' '$2,222' '$2,746' '$10,400' '$7,600' '$6,700' '$5,100'\n",
      " '$13,200' '$4,300' '$1,407' '$12,400' '$5,401' '$7,800' '$1,183' '$1,203'\n",
      " '$13,000' '$11,600' '$14,200' '$1,809' '$8,400' '$8,700' '$11,000'\n",
      " '$5,201' '$1,801' '$3,499' '$5,700' '$601' '$4,008' '$50' '$2,344'\n",
      " '$2,811' '$18,000' '$1,777' '$3,599' '$9,800' '$796' '$3,150' '$20'\n",
      " '$1,810' '$22' '$9,200' '$1,512' '$8,500' '$585' '$1,534' '$13,800'\n",
      " '$5,001' '$4,238' '$16,400' '$1,347' '$2547' '$11,200']\n",
      "Number of unique values: 150\n"
     ]
    },
    {
     "data": {
      "text/html": [
       "<div>\n",
       "<style scoped>\n",
       "    .dataframe tbody tr th:only-of-type {\n",
       "        vertical-align: middle;\n",
       "    }\n",
       "\n",
       "    .dataframe tbody tr th {\n",
       "        vertical-align: top;\n",
       "    }\n",
       "\n",
       "    .dataframe thead th {\n",
       "        text-align: right;\n",
       "    }\n",
       "</style>\n",
       "<table border=\"1\" class=\"dataframe\">\n",
       "  <thead>\n",
       "    <tr style=\"text-align: right;\">\n",
       "      <th></th>\n",
       "      <th>show_number</th>\n",
       "      <th>airdate</th>\n",
       "      <th>rounds</th>\n",
       "      <th>category</th>\n",
       "      <th>value</th>\n",
       "      <th>question</th>\n",
       "      <th>answer</th>\n",
       "    </tr>\n",
       "  </thead>\n",
       "  <tbody>\n",
       "    <tr>\n",
       "      <th>0</th>\n",
       "      <td>4680</td>\n",
       "      <td>2004-12-31</td>\n",
       "      <td>Jeopardy!</td>\n",
       "      <td>HISTORY</td>\n",
       "      <td>$200</td>\n",
       "      <td>For the last 8 years of his life, Galileo was under house arrest for espousing this man's theory</td>\n",
       "      <td>Copernicus</td>\n",
       "    </tr>\n",
       "    <tr>\n",
       "      <th>1</th>\n",
       "      <td>4680</td>\n",
       "      <td>2004-12-31</td>\n",
       "      <td>Jeopardy!</td>\n",
       "      <td>ESPN's TOP 10 ALL-TIME ATHLETES</td>\n",
       "      <td>$200</td>\n",
       "      <td>No. 2: 1912 Olympian; football star at Carlisle Indian School; 6 MLB seasons with the Reds, Giants &amp; Braves</td>\n",
       "      <td>Jim Thorpe</td>\n",
       "    </tr>\n",
       "    <tr>\n",
       "      <th>2</th>\n",
       "      <td>4680</td>\n",
       "      <td>2004-12-31</td>\n",
       "      <td>Jeopardy!</td>\n",
       "      <td>EVERYBODY TALKS ABOUT IT...</td>\n",
       "      <td>$200</td>\n",
       "      <td>The city of Yuma in this state has a record average of 4,055 hours of sunshine each year</td>\n",
       "      <td>Arizona</td>\n",
       "    </tr>\n",
       "    <tr>\n",
       "      <th>3</th>\n",
       "      <td>4680</td>\n",
       "      <td>2004-12-31</td>\n",
       "      <td>Jeopardy!</td>\n",
       "      <td>THE COMPANY LINE</td>\n",
       "      <td>$200</td>\n",
       "      <td>In 1963, live on \"The Art Linkletter Show\", this company served its billionth burger</td>\n",
       "      <td>McDonald's</td>\n",
       "    </tr>\n",
       "    <tr>\n",
       "      <th>4</th>\n",
       "      <td>4680</td>\n",
       "      <td>2004-12-31</td>\n",
       "      <td>Jeopardy!</td>\n",
       "      <td>EPITAPHS &amp; TRIBUTES</td>\n",
       "      <td>$200</td>\n",
       "      <td>Signer of the Dec. of Indep., framer of the Constitution of Mass., second President of the United States</td>\n",
       "      <td>John Adams</td>\n",
       "    </tr>\n",
       "  </tbody>\n",
       "</table>\n",
       "</div>"
      ],
      "text/plain": [
       "   show_number     airdate     rounds                         category value  \\\n",
       "0         4680  2004-12-31  Jeopardy!                          HISTORY  $200   \n",
       "1         4680  2004-12-31  Jeopardy!  ESPN's TOP 10 ALL-TIME ATHLETES  $200   \n",
       "2         4680  2004-12-31  Jeopardy!      EVERYBODY TALKS ABOUT IT...  $200   \n",
       "3         4680  2004-12-31  Jeopardy!                 THE COMPANY LINE  $200   \n",
       "4         4680  2004-12-31  Jeopardy!              EPITAPHS & TRIBUTES  $200   \n",
       "\n",
       "                                                                                                      question  \\\n",
       "0             For the last 8 years of his life, Galileo was under house arrest for espousing this man's theory   \n",
       "1  No. 2: 1912 Olympian; football star at Carlisle Indian School; 6 MLB seasons with the Reds, Giants & Braves   \n",
       "2                     The city of Yuma in this state has a record average of 4,055 hours of sunshine each year   \n",
       "3                         In 1963, live on \"The Art Linkletter Show\", this company served its billionth burger   \n",
       "4     Signer of the Dec. of Indep., framer of the Constitution of Mass., second President of the United States   \n",
       "\n",
       "       answer  \n",
       "0  Copernicus  \n",
       "1  Jim Thorpe  \n",
       "2     Arizona  \n",
       "3  McDonald's  \n",
       "4  John Adams  "
      ]
     },
     "execution_count": 1,
     "metadata": {},
     "output_type": "execute_result"
    }
   ],
   "source": [
    "import pandas as pd\n",
    "pd.set_option('display.max_colwidth', None)\n",
    "\n",
    "df = pd.read_csv(\"jeopardy.csv\")\n",
    "\n",
    "df.columns = ['show_number', 'airdate', 'rounds', 'category', 'value', 'question', 'answer']\n",
    "\n",
    "print(\"Number of rows:\")\n",
    "print(df.index.nunique())\n",
    "print(\"Unique show numbers:\")\n",
    "print(df.show_number.unique())\n",
    "print(df.rounds.unique())\n",
    "print(df.value.unique())\n",
    "print(\"Number of unique values: \" + str(df.value.nunique()))\n",
    "\n",
    "df.head()"
   ]
  },
  {
   "cell_type": "markdown",
   "metadata": {},
   "source": [
    "2. Write a function that filters the dataset for questions that contains all of the words in a list of words. For example, when the list `[\"King\", \"England\"]` was passed to our function, the function returned a DataFrame of 49 rows. Every row had the strings `\"King\"` and `\"England\"` somewhere in its `\" Question\"`.\n",
    "\n",
    "   Test your function by printing out the column containing the question of each row of the dataset."
   ]
  },
  {
   "cell_type": "code",
   "execution_count": 2,
   "metadata": {
    "tags": []
   },
   "outputs": [
    {
     "name": "stdout",
     "output_type": "stream",
     "text": [
      "4953                    Both England's King George V & FDR put their stamp of approval on this \"King of Hobbies\"\n",
      "6337      In retaliation for Viking raids, this \"Unready\" king of England attacks Norse areas of the Isle of Man\n",
      "9191                    This king of England beat the odds to trounce the French in the 1415 Battle of Agincourt\n",
      "11710               This Scotsman, the first Stuart king of England, was called \"The Wisest Fool in Christendom\"\n",
      "13454                                       It's the number that followed the last king of England named William\n",
      "                                                           ...                                                  \n",
      "208295        In 1066 this great-great grandson of Rollo made what some call the last Viking invasion of England\n",
      "208742                      Dutch-born king who ruled England jointly with Mary II & is a tasty New Zealand fish\n",
      "213870                In 1781 William Herschel discovered Uranus & initially named it after this king of England\n",
      "216021          His nickname was \"Bertie\", but he used this name & number when he became king of England in 1901\n",
      "216789        This kingdom of England grew from 2 settlements, one founded around 495 by Cerdic & his son Cynric\n",
      "Name: question, Length: 152, dtype: object\n"
     ]
    }
   ],
   "source": [
    "words = [\"King\", \"England\"]\n",
    "\n",
    "def has_words(words, frame):\n",
    "    matches = [word.lower() for word in words]\n",
    "    return frame.loc[frame.question.apply(lambda x: all(word in x.lower() for word in matches))]\n",
    "\n",
    "result = has_words(words, df).question\n",
    "print(result)"
   ]
  },
  {
   "cell_type": "markdown",
   "metadata": {},
   "source": [
    "3. Test your original function with a few different sets of words to try to find some ways your function breaks. Edit your function so it is more robust.\n",
    "\n",
    "   For example, think about capitalization. We probably want to find questions that contain the word `\"King\"` or `\"king\"`.\n",
    "   \n",
    "   You may also want to check to make sure you don't find rows that contain substrings of your given words. For example, our function found a question that didn't contain the word `\"king\"`, however it did contain the word `\"viking\"` &mdash; it found the `\"king\"` inside `\"viking\"`. Note that this also comes with some drawbacks &mdash; you would no longer find questions that contained words like `\"England's\"`."
   ]
  },
  {
   "cell_type": "code",
   "execution_count": 10,
   "metadata": {
    "tags": []
   },
   "outputs": [
    {
     "name": "stdout",
     "output_type": "stream",
     "text": [
      "40        <a href=\"http://www.j-archive.com/media/2004-12-31_DJ_26.mp3\">Ripped from today's headlines, he was a turtle king gone mad; Mack was the one good turtle who'd bring him down</a>\n",
      "781                                                                                                                A Norman could say, \"I'm the king of the motte-and-bailey style of\" this\n",
      "811                                                                                                          Examples of this TV format include \"Leave It to Beaver\" & \"The King of Queens\"\n",
      "846                                                                                                                                        It's the only U.S. state named for a French king\n",
      "896                                                                                                                This state was named for a man who was a European king from 1643 to 1715\n",
      "                                                                                                ...                                                                                        \n",
      "216232                                                                                                              When we need to know about this, the King of Beers, we call Mary McHugh\n",
      "216445                                                                                                 According to the King James Version of the Bible, the number of people on Noah's Ark\n",
      "216612                                                                                                                               Her 2 husbands were Uriah the Hittite & David the king\n",
      "216752                                                                         Upon signing his name in 1776 he said, \"There, King George will be able to read that without his spectacles\"\n",
      "216777                                                                   The first one of these tombs was built about 2650 B.C. by Imhotep for King Zoser & rose about 200 feet using steps\n",
      "Name: question, Length: 2075, dtype: object\n"
     ]
    }
   ],
   "source": [
    "words = \"king\"\n",
    "\n",
    "def has_words(words, frame):\n",
    "    if not isinstance(words, list):\n",
    "        words = [words]\n",
    "    matches = [word.lower() for word in words]\n",
    "    return frame.loc[frame.question.apply(lambda x: all(word in x.lower().split() for word in matches))]\n",
    "\n",
    "result = has_words(words, df).question\n",
    "print(result)"
   ]
  },
  {
   "cell_type": "markdown",
   "metadata": {},
   "source": [
    "4. We may want to eventually compute aggregate statistics, like `.mean()` on the `\" Value\"` column. But right now, the values in that column are strings. Convert the`\" Value\"` column to floats. If you'd like to, you can create a new column with float values.\n",
    "\n",
    "   While most of the values in the `\" Value\"` column represent a dollar amount as a string, note that some do not &mdash; these values will need to be handled differently!\n",
    "\n",
    "   Now that you can filter the dataset of question, use your new column that contains the float values of each question to find the \"difficulty\" of certain topics. For example, what is the average value of questions that contain the word `\"King\"`?\n",
    "   \n",
    "   Make sure to use the dataset that contains the float values as the dataset you use in your filtering function."
   ]
  },
  {
   "cell_type": "code",
   "execution_count": 11,
   "metadata": {
    "tags": []
   },
   "outputs": [],
   "source": [
    "df.value = df.value.apply(lambda x: x.strip(\"$\"))\n",
    "df.value = df.value.apply(lambda x: x.replace(\",\", \"\"))\n",
    "df.value = df.value.apply(lambda x: 0 if x == \"no value\" else x)\n",
    "df.value = df.value.astype(int).astype(float)"
   ]
  },
  {
   "cell_type": "code",
   "execution_count": 12,
   "metadata": {
    "tags": []
   },
   "outputs": [
    {
     "name": "stdout",
     "output_type": "stream",
     "text": [
      "805.4698795180723\n",
      "739.9884755451067\n"
     ]
    }
   ],
   "source": [
    "kings = has_words(\"king\", df)\n",
    "kings_mean = kings.value.mean()\n",
    "\n",
    "print(kings_mean)\n",
    "print(df.value.mean())\n"
   ]
  },
  {
   "cell_type": "markdown",
   "metadata": {},
   "source": [
    "5. Write a function that returns the count of unique answers to all of the questions in a dataset. For example, after filtering the entire dataset to only questions containing the word `\"King\"`, we could then find all of the unique answers to those questions. The answer \"Henry VIII\" appeared 55 times and was the most common answer."
   ]
  },
  {
   "cell_type": "code",
   "execution_count": 16,
   "metadata": {},
   "outputs": [
    {
     "name": "stdout",
     "output_type": "stream",
     "text": [
      "40        <a href=\"http://www.j-archive.com/media/2004-12-31_DJ_26.mp3\">Ripped from today's headlines, he was a turtle king gone mad; Mack was the one good turtle who'd bring him down</a>\n",
      "781                                                                                                                A Norman could say, \"I'm the king of the motte-and-bailey style of\" this\n",
      "811                                                                                                          Examples of this TV format include \"Leave It to Beaver\" & \"The King of Queens\"\n",
      "846                                                                                                                                        It's the only U.S. state named for a French king\n",
      "896                                                                                                                This state was named for a man who was a European king from 1643 to 1715\n",
      "                                                                                                ...                                                                                        \n",
      "216232                                                                                                              When we need to know about this, the King of Beers, we call Mary McHugh\n",
      "216445                                                                                                 According to the King James Version of the Bible, the number of people on Noah's Ark\n",
      "216612                                                                                                                               Her 2 husbands were Uriah the Hittite & David the king\n",
      "216752                                                                         Upon signing his name in 1776 he said, \"There, King George will be able to read that without his spectacles\"\n",
      "216777                                                                   The first one of these tombs was built about 2650 B.C. by Imhotep for King Zoser & rose about 200 feet using steps\n",
      "Name: question, Length: 2075, dtype: object\n"
     ]
    }
   ],
   "source": [
    "def has_words(words, frame):\n",
    "    if not isinstance(words, list):\n",
    "        words = [words]\n",
    "    matches = [word.lower() for word in words]\n",
    "    return frame.loc[frame.question.apply(lambda x: all(word in x.lower().split() for word in matches))]\n",
    "\n",
    "kings = has_words(\"king\", df)\n",
    "\n",
    "print(kings.question)"
   ]
  },
  {
   "cell_type": "markdown",
   "metadata": {},
   "source": [
    "6. Explore from here! This is an incredibly rich dataset, and there are so many interesting things to discover. There are a few columns that we haven't even started looking at yet. Here are some ideas on ways to continue working with this data:\n",
    "\n",
    " * Investigate the ways in which questions change over time by filtering by the date. How many questions from the 90s use the word `\"Computer\"` compared to questions from the 2000s?\n",
    " * Is there a connection between the round and the category? Are you more likely to find certain categories, like `\"Literature\"` in Single Jeopardy or Double Jeopardy?\n",
    " * Build a system to quiz yourself. Grab random questions, and use the <a href=\"https://docs.python.org/3/library/functions.html#input\">input</a> function to get a response from the user. Check to see if that response was right or wrong."
   ]
  },
  {
   "cell_type": "code",
   "execution_count": 35,
   "metadata": {},
   "outputs": [
    {
     "name": "stdout",
     "output_type": "stream",
     "text": [
      "How many more computer Qs in 2000s compared to 90s:\n",
      "131\n"
     ]
    }
   ],
   "source": [
    "computers = has_words(\"computer\", df).airdate\n",
    "comps_nineties = computers[computers.str[:3] == \"199\"]\n",
    "compes_mil = computers[computers.str[:3] == \"200\"]\n",
    "\n",
    "print(\"How many more computer Qs in 2000s compared to 90s:\")\n",
    "print(compes_mil.count() - comps_nineties.count())"
   ]
  },
  {
   "cell_type": "code",
   "execution_count": 59,
   "metadata": {
    "tags": []
   },
   "outputs": [
    {
     "name": "stdout",
     "output_type": "stream",
     "text": [
      "['Jeopardy!' 'Double Jeopardy!' 'Final Jeopardy!' 'Tiebreaker']\n",
      "27995\n",
      "show_number      3640\n",
      "airdate          3640\n",
      "rounds              4\n",
      "category        27995\n",
      "value             146\n",
      "question       216124\n",
      "answer          88267\n",
      "dtype: int64\n",
      "105\n",
      "381\n"
     ]
    }
   ],
   "source": [
    "print(df.rounds.unique())\n",
    "print(df.category.nunique())\n",
    "print(df.nunique())\n",
    "\n",
    "lits = df[df.category.str.lower() == \"literature\"]\n",
    "lits_in_single = lits.loc[lits['rounds'] == \"Jeopardy!\"]\n",
    "lits_in_double = lits.loc[lits['rounds'] == \"Double Jeopardy!\"]\n",
    "\n",
    "print(lits_in_single.rounds.count())\n",
    "print(lits_in_double.rounds.count())"
   ]
  },
  {
   "cell_type": "code",
   "execution_count": 89,
   "metadata": {
    "tags": []
   },
   "outputs": [
    {
     "name": "stdin",
     "output_type": "stream",
     "text": [
      "When buying this fruit, the pina in a pina colada, don't judge it by its color:  pineapple\n"
     ]
    },
    {
     "name": "stdout",
     "output_type": "stream",
     "text": [
      "Tadaaaaa! You're right! It's Pineapple\n"
     ]
    }
   ],
   "source": [
    "import random\n",
    "\n",
    "question_no = random.randint(0, len(df) - 1)\n",
    "\n",
    "question = str(df['question'].iloc[question_no])\n",
    "answer = str(df['answer'].iloc[question_no])\n",
    "answered = input(question + \": \")\n",
    "\n",
    "if answered.lower() == answer.lower():\n",
    "    print(\"Tadaaaaa! You're right! It's \" + answer)\n",
    "else:\n",
    "    print(\"Booooo! Back to school! It's \" + answer)"
   ]
  },
  {
   "cell_type": "markdown",
   "metadata": {},
   "source": [
    "7. Compare your program to our <a href=\"https://content.codecademy.com/PRO/independent-practice-projects/jeopardy/jeopardy_solution.zip\">sample solution code</a> - remember, that your program might look different from ours (and probably will) and that's okay!"
   ]
  },
  {
   "cell_type": "markdown",
   "metadata": {},
   "source": [
    "8. Great work! Visit <a href=\"https://discuss.codecademy.com/t/this-is-jeopardy-challenge-project-python-pandas/462365\">our forums</a> to compare your project to our sample solution code. You can also learn how to host your own solution on GitHub so you can share it with other learners! Your solution might look different from ours, and that's okay! There are multiple ways to solve these projects, and you'll learn more by seeing others' code."
   ]
  },
  {
   "cell_type": "code",
   "execution_count": null,
   "metadata": {},
   "outputs": [],
   "source": []
  }
 ],
 "metadata": {
  "kernelspec": {
   "display_name": "Python 3 (ipykernel)",
   "language": "python",
   "name": "python3"
  },
  "language_info": {
   "codemirror_mode": {
    "name": "ipython",
    "version": 3
   },
   "file_extension": ".py",
   "mimetype": "text/x-python",
   "name": "python",
   "nbconvert_exporter": "python",
   "pygments_lexer": "ipython3",
   "version": "3.11.5"
  }
 },
 "nbformat": 4,
 "nbformat_minor": 4
}
