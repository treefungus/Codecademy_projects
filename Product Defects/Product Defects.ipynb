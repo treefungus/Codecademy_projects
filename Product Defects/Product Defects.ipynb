{
 "cells": [
  {
   "cell_type": "markdown",
   "id": "4b2cd154",
   "metadata": {},
   "source": [
    "# Product Defects"
   ]
  },
  {
   "cell_type": "markdown",
   "id": "9fb46377",
   "metadata": {},
   "source": [
    "You are in charge of monitoring the number of products from a specific factory. You've been told that the number of defects on a given day follows the Poisson distribution with the rate parameter (lambda) equal to 7. You're new here, so you want to get a feel for what it means to follow the Poisson(7) distribution. You remember that the Poisson distribution is special because the rate parameter represents the expected value of the distribution, so in this case, the expected value of the Poisson(7) distribution is 7 defects per day.\n",
    "\n",
    "You will investigate certain attributes of the Poisson(7) distribution to get an intuition for how many defective objects you should expect to see in a given amount of time. You will also practice and apply what you know about the Poisson distribution on a practice data set that you will simulate yourself."
   ]
  },
  {
   "cell_type": "markdown",
   "id": "24b7687a",
   "metadata": {},
   "source": [
    "## Distribution in Theory"
   ]
  },
  {
   "cell_type": "markdown",
   "id": "6507ea83",
   "metadata": {},
   "source": [
    "1. Create a variable called `lam` that represents the rate parameter of our distribution."
   ]
  },
  {
   "cell_type": "code",
   "execution_count": 60,
   "id": "5004fed3",
   "metadata": {
    "tags": []
   },
   "outputs": [],
   "source": [
    "import scipy.stats as stats\n",
    "import numpy as np\n",
    "\n",
    "## Task 1:\n",
    "lam = 7"
   ]
  },
  {
   "cell_type": "markdown",
   "id": "74c409d6",
   "metadata": {},
   "source": [
    "2. You know that the rate parameter of a Poisson distribution is equal to the expected value. So in our factory, the rate parameter would equal the expected number of defects on a given day. You are curious about how often we might observe the exact expected number of defects.\n",
    "\n",
    "   Calculate and print the probability of observing exactly `lam` defects on a given day."
   ]
  },
  {
   "cell_type": "code",
   "execution_count": 61,
   "id": "9460b5b8",
   "metadata": {
    "tags": []
   },
   "outputs": [
    {
     "name": "stdout",
     "output_type": "stream",
     "text": [
      "0.14900277967433773\n"
     ]
    }
   ],
   "source": [
    "## Task 2:\n",
    "lam_prop = stats.poisson.pmf(lam, lam)\n",
    "print(lam_prop)"
   ]
  },
  {
   "cell_type": "markdown",
   "id": "2f2e2d1f",
   "metadata": {},
   "source": [
    "3. Our boss said that having 4 or fewer defects on a given day is an exceptionally good day. You are curious about how often that might happen.\n",
    "\n",
    "   Calculate and print the probability of having one of those days."
   ]
  },
  {
   "cell_type": "code",
   "execution_count": 62,
   "id": "f4ebb772",
   "metadata": {
    "tags": []
   },
   "outputs": [
    {
     "name": "stdout",
     "output_type": "stream",
     "text": [
      "0.17299160788207146\n"
     ]
    }
   ],
   "source": [
    "## Task 3:\n",
    "good_day_max = 4\n",
    "good_day_prop = stats.poisson.cdf(good_day_max, lam) \n",
    "print(good_day_prop)"
   ]
  },
  {
   "cell_type": "markdown",
   "id": "53d28c8f",
   "metadata": {},
   "source": [
    "4. On the other hand, our boss said that having more than 9 defects on a given day is considered a bad day.\n",
    "\n",
    "   Calculate and print the probability of having one of these bad days."
   ]
  },
  {
   "cell_type": "code",
   "execution_count": 63,
   "id": "a2e52583",
   "metadata": {
    "tags": []
   },
   "outputs": [
    {
     "name": "stdout",
     "output_type": "stream",
     "text": [
      "0.16950406276132668\n"
     ]
    }
   ],
   "source": [
    "## Task 4:\n",
    "bad_day_min = 9\n",
    "bad_day_prop = 1- stats.poisson.cdf(bad_day_min, lam)\n",
    "print(bad_day_prop)"
   ]
  },
  {
   "cell_type": "markdown",
   "id": "51b70b96",
   "metadata": {},
   "source": [
    "## Distribution in Practice"
   ]
  },
  {
   "cell_type": "markdown",
   "id": "64c0a33e",
   "metadata": {},
   "source": [
    "5. You've familiarized yourself a little bit about how the Poisson distribution works in theory by calculating different probabilities. But let's look at what this might look like in practice.\n",
    "\n",
    "   Create a variable called `year_defects` that has 365 random values from the Poisson distribution."
   ]
  },
  {
   "cell_type": "code",
   "execution_count": 64,
   "id": "ca2113e6",
   "metadata": {
    "tags": []
   },
   "outputs": [
    {
     "name": "stdout",
     "output_type": "stream",
     "text": [
      "[ 5  8  8  9  5  9 15  7  4  5  4  8  4 11  4  9  5  7 10 10  6 14 10  7\n",
      "  7  6  6 11  7  7  6  6  5  6  3 10  7  9  8  6 10  7 10  8  9  6  4  8\n",
      "  8 11  4  6  6  8  5 11  2  3  8  9  9 11  9  7  3  8  8  9  9  4  7 14\n",
      "  5  7  8  6  8  2  7 10  7  3  4 10  8  5  5  8  9 10  7  6 13  8  5  9\n",
      "  7  7  8  6 12  5  7  9  8  5  8  7  9 10  6  7  8  4  7  6  5 10  4 12\n",
      "  9  4 11  8  5  6  6  7  6 13  7  4  8  6 15  7  4  5 10  8  7  3  2  7\n",
      "  6 10  5  7 11 10  3 11  8  9  9 11  8  4 12  9 10  7 11  9  6  2  7  9\n",
      "  7  6  9 14  4  8  6 15  5 14 10  6  5  6  3 12  8 11  5  8  7  4  8  9\n",
      "  7  8  6  5  6  7  5  5 10  5  8  5  7  6  6  2  5 13  6  7  7  4  9  7\n",
      "  5  7  8  6  7  4 12  5  5  8  4  2  6 10  3  7  9  7  6  5 12  9  5  6\n",
      " 10  7  7 11 13  5  7  7  6  7  7  8 11 10  5  7  7  4  4  5 11  9 12  7\n",
      "  4 13  6  7  7  9  2  6  8  8  4  6  6 10  7  4 13  4  4  8  6  7  3  8\n",
      "  5 10  7  6  8  9  8 10  3  7 12  9  6  4 11 10 10  4  6  9  4 11 10  8\n",
      "  8 14  7  6  4  8  6  2  4  3  4  6  5  4  9 10  6  5  8  4  6 10 13 10\n",
      "  9  3  9  6  7 14 10  7  9 11  7  7  2  7  8  3  5  9  5  6 10  6 12 11\n",
      "  8  4  6  9 13]\n"
     ]
    }
   ],
   "source": [
    "## Task 5:\n",
    "year_defects = stats.poisson.rvs(7, size=365)\n",
    "print(year_defects)"
   ]
  },
  {
   "cell_type": "markdown",
   "id": "d7f3dce8",
   "metadata": {},
   "source": [
    "6. Let's take a look at our new dataset. Print the first 20 values in this dataset."
   ]
  },
  {
   "cell_type": "code",
   "execution_count": 65,
   "id": "b1d5f0c1",
   "metadata": {
    "tags": []
   },
   "outputs": [
    {
     "name": "stdout",
     "output_type": "stream",
     "text": [
      "[ 5  8  8  9  5  9 15  7  4  5  4  8  4 11  4  9  5  7 10 10]\n"
     ]
    }
   ],
   "source": [
    "## Task 6:\n",
    "print(year_defects[:20])"
   ]
  },
  {
   "cell_type": "markdown",
   "id": "eedc358b",
   "metadata": {},
   "source": [
    "7. If we expect 7 defects on a given day, what is the total number of defects we would expect over 365 days?\n",
    "\n",
    "   Calculate and print this value to the output terminal."
   ]
  },
  {
   "cell_type": "code",
   "execution_count": 66,
   "id": "75d2f0e0",
   "metadata": {
    "tags": []
   },
   "outputs": [
    {
     "name": "stdout",
     "output_type": "stream",
     "text": [
      "2555\n"
     ]
    }
   ],
   "source": [
    "## Task 7:\n",
    "print(7 * 365)"
   ]
  },
  {
   "cell_type": "markdown",
   "id": "ad96cdf6",
   "metadata": {},
   "source": [
    "8. Calculate and print the total sum of the dataset `year_defects`. How does this compare to the total number of defects we expected over 365 days?"
   ]
  },
  {
   "cell_type": "code",
   "execution_count": 67,
   "id": "da304786",
   "metadata": {
    "tags": []
   },
   "outputs": [
    {
     "name": "stdout",
     "output_type": "stream",
     "text": [
      "2667\n"
     ]
    }
   ],
   "source": [
    "## Task 8:\n",
    "sum_year_defects = year_defects.sum()\n",
    "print(sum_year_defects)\n",
    "\n",
    "# It's higher; values are perhaps skewed to right?"
   ]
  },
  {
   "cell_type": "markdown",
   "id": "aefa9e09",
   "metadata": {},
   "source": [
    "9. Calculate and print the average number of defects per day from our simulated dataset.\n",
    "\n",
    "   How does this compare to the expected average number of defects each day that we know from the given rate parameter of the Poisson distribution?"
   ]
  },
  {
   "cell_type": "code",
   "execution_count": 68,
   "id": "febc26d4",
   "metadata": {
    "tags": []
   },
   "outputs": [
    {
     "name": "stdout",
     "output_type": "stream",
     "text": [
      "7.306849315068493\n"
     ]
    }
   ],
   "source": [
    "## Task 9:\n",
    "avg_year_defects = year_defects.mean()\n",
    "print(avg_year_defects)\n",
    "\n",
    "# It's slightly higher"
   ]
  },
  {
   "cell_type": "markdown",
   "id": "31308a48",
   "metadata": {},
   "source": [
    "10. You're worried about what the highest amount of defects in a single day might be because that would be a hectic day.\n",
    "\n",
    "    Print the maximum value of `year_defects`."
   ]
  },
  {
   "cell_type": "code",
   "execution_count": 69,
   "id": "18feb435",
   "metadata": {
    "tags": []
   },
   "outputs": [
    {
     "name": "stdout",
     "output_type": "stream",
     "text": [
      "15\n"
     ]
    }
   ],
   "source": [
    "## Task 10:\n",
    "max_year_defects = year_defects.max()\n",
    "print(max_year_defects)"
   ]
  },
  {
   "cell_type": "markdown",
   "id": "64b6a84a",
   "metadata": {},
   "source": [
    "11. Wow, it would probably be super busy if there were that many defects on a single day. Hopefully, it is a rare event!\n",
    "\n",
    "    Calculate and print the probability of observing that maximum value or more from the Poisson(7) distribution."
   ]
  },
  {
   "cell_type": "code",
   "execution_count": 71,
   "id": "a63b1329",
   "metadata": {
    "tags": []
   },
   "outputs": [
    {
     "name": "stdout",
     "output_type": "stream",
     "text": [
      "0.003310622145097962\n"
     ]
    }
   ],
   "source": [
    "## Task 11:\n",
    "max_defs_prop = stats.poisson.pmf(max_year_defects, lam)\n",
    "print(max_defs_prop)\n",
    "\n",
    "# yop, extra rare - anyway that's what like makes the distro skewed"
   ]
  },
  {
   "cell_type": "markdown",
   "id": "b45f0bab",
   "metadata": {},
   "source": [
    "## Extra"
   ]
  },
  {
   "cell_type": "markdown",
   "id": "5060f0ec",
   "metadata": {},
   "source": [
    "12. Congratulations! At this point, you have now explored the Poisson distribution and even worked with some simulated data. We have a couple of extra tasks if you would like an extra challenge. Feel free to try them out or move onto the next topic!\n",
    "\n",
    "    Let's say we want to know how many defects in a given day would put us in the 90th percentile of the Poisson(7) distribution. One way we could calculate this is by using the following method:\n",
    "    \n",
    "    ```py\n",
    "    stats.poisson.ppf(percentile, lambda)\n",
    "    ```\n",
    "    \n",
    "    `percentile` is equal to the desired percentile (a decimal between 0 and 1), and `lambda` is the lambda parameter of the Poisson distribution. This function is essentially the inverse of the CDF.\n",
    "    \n",
    "    Use this method to calculate and print the number of defects that would put us in the 90th percentile for a given day. In other words, on 90% of days, we will observe fewer defects than this number."
   ]
  },
  {
   "cell_type": "code",
   "execution_count": 72,
   "id": "e6156c3e",
   "metadata": {
    "tags": []
   },
   "outputs": [
    {
     "name": "stdout",
     "output_type": "stream",
     "text": [
      "10.0\n"
     ]
    },
    {
     "data": {
      "image/png": "[encoded data removed]",
      "text/plain": [
       "<Figure size 640x480 with 1 Axes>"
      ]
     },
     "metadata": {},
     "output_type": "display_data"
    },
    {
     "name": "stdout",
     "output_type": "stream",
     "text": [
      "7.306849315068493\n",
      "7.0\n"
     ]
    }
   ],
   "source": [
    "## Task 12:\n",
    "ninety_prc_prop = stats.poisson.ppf(0.9, lam)\n",
    "print(ninety_prc_prop)\n",
    "\n",
    "# again, this proofs how it's skewed\n",
    "# adding plot to check:\n",
    "\n",
    "import seaborn as sns\n",
    "import matplotlib.pyplot as plt\n",
    "\n",
    "sns.histplot(year_defects)\n",
    "plt.show()\n",
    "plt.close()\n",
    "\n",
    "# ok, somewhat skewed. What's the median then?\n",
    "print(year_defects.mean())\n",
    "print(np.median(year_defects))"
   ]
  },
  {
   "cell_type": "markdown",
   "id": "0d86d9d0",
   "metadata": {},
   "source": [
    "13. Now let's see what proportion of our simulated dataset `year_defects` is greater than or equal to the number we calculated in the previous step.\n",
    "\n",
    "    By definition of a percentile, we would expect 1 - .90, or about 10% of days to be in this range.\n",
    "    \n",
    "    To calculate this:\n",
    "    \n",
    "     1) Count the number of values in the dataset that are greater than or equal to the 90th percentile value.\n",
    "     \n",
    "     2) Divide this number by the length of the dataset."
   ]
  },
  {
   "cell_type": "code",
   "execution_count": 101,
   "id": "c80c6e6a",
   "metadata": {
    "tags": []
   },
   "outputs": [
    {
     "name": "stdout",
     "output_type": "stream",
     "text": [
      "75\n",
      "0.2054794520547945\n",
      "0.2054794520547945\n",
      "0.12054794520547946\n"
     ]
    }
   ],
   "source": [
    "## Task 13:\n",
    "ninety_prc_prop = stats.poisson.ppf(0.9, lam)\n",
    "\n",
    "over_ninety_prop =  0\n",
    "for fig in year_defects:\n",
    "    if fig >= ninety_prc_prop:\n",
    "        over_ninety_prop += 1\n",
    "        \n",
    "print(over_ninety_prop)\n",
    "print(over_ninety_prop / len(year_defects))\n",
    "print(over_ninety_prop / 365)\n",
    "\n",
    "# all seems good, checking against solution\n",
    "\n",
    "print(sum(year_defects > stats.poisson.ppf(0.9,lam))/len(year_defects))\n",
    "\n",
    "# and it's wrong\n",
    "# debugging below -- SPOILER: surprising conclusion!"
   ]
  },
  {
   "cell_type": "code",
   "execution_count": 108,
   "id": "9961924d",
   "metadata": {
    "tags": []
   },
   "outputs": [
    {
     "name": "stdout",
     "output_type": "stream",
     "text": [
      "75\n",
      "44\n",
      "---\n",
      "75\n",
      "[15, 11, 10, 10, 14, 10, 11, 10, 10, 10, 11, 11, 11, 14, 10, 10, 10, 13, 12, 10, 10, 12, 11, 13, 15, 10, 10, 11, 10, 11, 11, 12, 10, 11, 14, 15, 14, 10, 12, 11, 10, 13, 12, 10, 12, 10, 11, 13, 11, 10, 11, 12, 13, 10, 13, 10, 10, 12, 11, 10, 10, 11, 10, 14, 10, 10, 13, 10, 14, 10, 11, 10, 12, 11, 13]\n",
      "75\n",
      "44\n",
      "[15, 11, 14, 11, 11, 11, 11, 14, 13, 12, 12, 11, 13, 15, 11, 11, 11, 12, 11, 14, 15, 14, 12, 11, 13, 12, 12, 11, 13, 11, 11, 12, 13, 13, 12, 11, 11, 14, 13, 14, 11, 12, 11, 13]\n"
     ]
    }
   ],
   "source": [
    "print(over_ninety_prop)\n",
    "\n",
    "over_ninety_check = 0\n",
    "for value in year_defects > stats.poisson.ppf(0.9,lam):\n",
    "    if value == True:\n",
    "        over_ninety_check += 1\n",
    "\n",
    "print(over_ninety_check)\n",
    "\n",
    "# way higher, checking calculations of over_ninety_prop\n",
    "print(\"---\")\n",
    "print(over_ninety_prop)\n",
    "\n",
    "figs = []\n",
    "for fig in year_defects:\n",
    "    if fig >= ninety_prc_prop:\n",
    "        figs.append(fig)\n",
    "        \n",
    "print(figs)\n",
    "print(len(figs))\n",
    "\n",
    "print(over_ninety_check)\n",
    "\n",
    "vals = []\n",
    "for value in year_defects: \n",
    "    if value > stats.poisson.ppf(0.9,lam):\n",
    "        vals.append(value)\n",
    "        \n",
    "print(vals)\n",
    "\n",
    "# OK!\n",
    "# my list includes values of 10\n",
    "# solution list excludes values of 10\n",
    "\n",
    "# the instructions read:\n",
    "# Now let's see what proportion of our simulated dataset year_defects is greater than or equal to the number we calculated in the previous step.\n",
    "# **greater than or equal to**\n",
    "# calculated result was 10\n",
    "\n",
    "# conlusion: the solution is wrong"
   ]
  },
  {
   "cell_type": "code",
   "execution_count": 107,
   "id": "2229d08b-1dac-46d0-bdbb-a77668456ceb",
   "metadata": {
    "tags": []
   },
   "outputs": [
    {
     "name": "stdout",
     "output_type": "stream",
     "text": [
      "10.0\n",
      "10.0\n"
     ]
    }
   ],
   "source": [
    "#double-checking the compared value:\n",
    "\n",
    "ninety_prc_prop = stats.poisson.ppf(0.9, lam)\n",
    "print(ninety_prc_prop)\n",
    "print(stats.poisson.ppf(0.9, lam))\n",
    "\n",
    "# conlusion: the solution is wrong"
   ]
  }
 ],
 "metadata": {
  "kernelspec": {
   "display_name": "Python 3 (ipykernel)",
   "language": "python",
   "name": "python3"
  },
  "language_info": {
   "codemirror_mode": {
    "name": "ipython",
    "version": 3
   },
   "file_extension": ".py",
   "mimetype": "text/x-python",
   "name": "python",
   "nbconvert_exporter": "python",
   "pygments_lexer": "ipython3",
   "version": "3.11.5"
  }
 },
 "nbformat": 4,
 "nbformat_minor": 5
}
