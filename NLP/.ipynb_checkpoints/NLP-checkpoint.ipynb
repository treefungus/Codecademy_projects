{
 "cells": [
  {
   "cell_type": "markdown",
   "id": "b75c710a-c815-4bab-93b6-ce4b71b0f938",
   "metadata": {},
   "source": [
    "# NLP Portfolio exercise\n",
    "\n",
    "This has very open instructions to analyze text message data using Natural Language Processing techniques and libraries.\n",
    "\n",
    "We are using the dataset consisting of SMS messages.\n",
    "\n",
    "Kudos for data go to:\n",
    "* Tao Chen and Min-Yen Kan (2013). Creating a Live, Public Short Message Service Corpus: The NUS SMS Corpus. Language Resources and Evaluation, 47(2)(2013), pages 299-355. URL: https://link.springer.com/article/10.1007%2Fs10579-012-9197-9"
   ]
  },
  {
   "cell_type": "markdown",
   "id": "1550e96c-7231-47f1-aa40-85505a8a4cf6",
   "metadata": {},
   "source": [
    "### Peeking into and cleaning data "
   ]
  },
  {
   "cell_type": "code",
   "execution_count": 3,
   "id": "2745d731-a57f-4095-b573-102fc8d2658e",
   "metadata": {},
   "outputs": [
    {
     "name": "stdout",
     "output_type": "stream",
     "text": [
      "   Unnamed: 0     id                                            Message  \\\n",
      "0           0  10120                              Bugis oso near wat...   \n",
      "1           1  10121  Go until jurong point, crazy.. Available only ...   \n",
      "2           2  10122     I dunno until when... Lets go learn pilates...   \n",
      "3           3  10123  Den only weekdays got special price... Haiz......   \n",
      "4           4  10124                             Meet after lunch la...   \n",
      "\n",
      "  length country    Date  \n",
      "0     21      SG  2003/4  \n",
      "1    111      SG  2003/4  \n",
      "2     46      SG  2003/4  \n",
      "3    140      SG  2003/4  \n",
      "4     22      SG  2003/4  \n"
     ]
    }
   ],
   "source": [
    "import pandas as pd\n",
    "\n",
    "data = pd.read_csv(\"clean_nus_sms.csv\")\n",
    "print(data.head())"
   ]
  },
  {
   "cell_type": "code",
   "execution_count": 4,
   "id": "fd35989f-eae3-4063-ad06-718125222075",
   "metadata": {},
   "outputs": [
    {
     "name": "stdout",
     "output_type": "stream",
     "text": [
      "Index(['Unnamed: 0', 'id', 'Message', 'length', 'country', 'Date'], dtype='object')\n",
      "(48598, 6)\n",
      "Unnamed: 0     int64\n",
      "id             int64\n",
      "Message       object\n",
      "length        object\n",
      "country       object\n",
      "Date          object\n",
      "dtype: object\n",
      "Unnamed: 0    0\n",
      "id            0\n",
      "Message       0\n",
      "length        0\n",
      "country       0\n",
      "Date          0\n",
      "dtype: int64\n"
     ]
    }
   ],
   "source": [
    "print(data.columns)\n",
    "print(data.shape)\n",
    "print(data.dtypes)\n",
    "data = data.dropna()\n",
    "print(data.isna().sum())"
   ]
  },
  {
   "cell_type": "code",
   "execution_count": 5,
   "id": "60eeef95-0753-4e53-85f4-f7edf05e0baa",
   "metadata": {},
   "outputs": [
    {
     "name": "stdout",
     "output_type": "stream",
     "text": [
      "Index(['id', 'Message', 'length', 'country', 'Date'], dtype='object')\n"
     ]
    }
   ],
   "source": [
    "data = data.drop(\"Unnamed: 0\", axis=1)\n",
    "print(data.columns)"
   ]
  },
  {
   "cell_type": "code",
   "execution_count": 6,
   "id": "b39b0f0c-fb5d-4a42-bc1e-0ad9847018bb",
   "metadata": {},
   "outputs": [
    {
     "name": "stdout",
     "output_type": "stream",
     "text": [
      "Index(['id', 'message', 'length', 'country', 'date'], dtype='object')\n"
     ]
    }
   ],
   "source": [
    "data.columns = [col.lower() for col in data.columns]\n",
    "print(data.columns)"
   ]
  },
  {
   "cell_type": "markdown",
   "id": "805c0250-c81e-4f0a-bc6f-c01255da7940",
   "metadata": {},
   "source": [
    "### Tidying up \"country\""
   ]
  },
  {
   "cell_type": "code",
   "execution_count": 8,
   "id": "3f24016b-4247-4902-bfdd-4e1e64180e59",
   "metadata": {},
   "outputs": [
    {
     "name": "stdout",
     "output_type": "stream",
     "text": [
      "['SG' 'MY' 'India' 'Pakistan' 'United States' 'Canada' 'unknown' 'Serbia'\n",
      " 'United Kingdom' 'France' 'Singapore' 'China' 'Malaysia' 'Sri Lanka'\n",
      " 'Spain' 'Bangladesh' 'Philippines' 'Macedonia' 'Romania' 'Kenya'\n",
      " 'Slovenia' 'New Zealand' 'Nigeria' 'Ghana' 'Indonesia' 'Nepal' 'Morocco'\n",
      " 'USA' 'Lebanon' 'india' 'Trinidad and Tobago' 'INDIA' 'srilanka'\n",
      " 'jamaica' 'Hungary' 'Australia' 'Italia' 'BARBADOS' 'Turkey' 'UK']\n"
     ]
    }
   ],
   "source": [
    "print(data.country.unique())"
   ]
  },
  {
   "cell_type": "code",
   "execution_count": 9,
   "id": "04455861-12b3-45db-adde-26a129a882c7",
   "metadata": {},
   "outputs": [
    {
     "name": "stdout",
     "output_type": "stream",
     "text": [
      "['Singapore' 'Malaysia' 'India' 'Pakistan' 'United States' 'Canada'\n",
      " 'unknown' 'Serbia' 'United Kingdom' 'France' 'China' 'Sri Lanka' 'Spain'\n",
      " 'Bangladesh' 'Philippines' 'Macedonia' 'Romania' 'Kenya' 'Slovenia'\n",
      " 'New Zealand' 'Nigeria' 'Ghana' 'Indonesia' 'Nepal' 'Morocco' 'Lebanon'\n",
      " 'Trinidad and Tobago' 'Jamaica' 'Hungary' 'Australia' 'Italia' 'Barbados'\n",
      " 'Turkey']\n"
     ]
    }
   ],
   "source": [
    "country_replacements = {\n",
    "    \"srilanka\": \"Sri Lanka\",\n",
    "    \"india\": \"India\",\n",
    "    \"INDIA\": \"India\",\n",
    "    \"SG\": \"Singapore\",\n",
    "    \"MY\": \"Malaysia\",\n",
    "    \"UK\": \"United Kingdom\",\n",
    "    \"jamaica\": \"Jamaica\",\n",
    "    \"BARBADOS\": \"Barbados\",\n",
    "    \"USA\": \"United States\"\n",
    "}\n",
    "\n",
    "data[\"country\"] = data[\"country\"].replace(country_replacements, regex=True)\n",
    "print(data.country.unique())"
   ]
  },
  {
   "cell_type": "code",
   "execution_count": 10,
   "id": "b85e6251-d855-4e15-8489-92c173ad66c5",
   "metadata": {},
   "outputs": [
    {
     "data": {
      "image/png": "[encoded data removed]",
      "text/plain": [
       "<Figure size 640x480 with 1 Axes>"
      ]
     },
     "metadata": {},
     "output_type": "display_data"
    }
   ],
   "source": [
    "import matplotlib.pyplot as plt\n",
    "import seaborn as sns\n",
    "\n",
    "country_counts = data[\"country\"].value_counts()\n",
    "filtered_countries = data[data[\"country\"].isin(country_counts[country_counts > 250].index)]\n",
    "\n",
    "sns.countplot(y=\"country\", data=filtered_countries)\n",
    "plt.show()"
   ]
  },
  {
   "cell_type": "markdown",
   "id": "61472754-91c5-4a49-b80f-d141c90bfd41",
   "metadata": {},
   "source": [
    "### Tidying up \"length\""
   ]
  },
  {
   "cell_type": "code",
   "execution_count": 12,
   "id": "8dd02967-000a-4066-b7ba-e54ad6e152ff",
   "metadata": {},
   "outputs": [
    {
     "data": {
      "text/plain": [
       "id          int64\n",
       "message    object\n",
       "length      int32\n",
       "country    object\n",
       "date       object\n",
       "dtype: object"
      ]
     },
     "execution_count": 12,
     "metadata": {},
     "output_type": "execute_result"
    }
   ],
   "source": [
    "data['length'] = pd.to_numeric(data['length'], errors='coerce')\n",
    "data = data.dropna(subset=['length'])\n",
    "data['length'] = data['length'].astype(int)\n",
    "data.dtypes"
   ]
  },
  {
   "cell_type": "code",
   "execution_count": 13,
   "id": "d8037916-a005-4e97-b170-0e541e54f55b",
   "metadata": {},
   "outputs": [
    {
     "data": {
      "image/png": "[encoded data removed]",
      "text/plain": [
       "<Figure size 640x480 with 1 Axes>"
      ]
     },
     "metadata": {},
     "output_type": "display_data"
    },
    {
     "data": {
      "image/png": "[encoded data removed]",
      "text/plain": [
       "<Figure size 640x480 with 1 Axes>"
      ]
     },
     "metadata": {},
     "output_type": "display_data"
    }
   ],
   "source": [
    "import matplotlib.pyplot as plt\n",
    "import seaborn as sns\n",
    "\n",
    "sns.histplot(x=\"length\", data=data[data.length < 160], binwidth=5)\n",
    "plt.show()\n",
    "sns.histplot(x=\"length\", data=data[data.length > 160], binwidth=5)\n",
    "plt.show()"
   ]
  },
  {
   "cell_type": "code",
   "execution_count": 14,
   "id": "8cac0a03-1b7d-49d4-95ce-bf51d120fb09",
   "metadata": {},
   "outputs": [],
   "source": [
    "data = data.drop(data[data['length'] > 160].index)"
   ]
  },
  {
   "cell_type": "markdown",
   "id": "86082567-9cf4-441f-92e8-dd91be2a7c9a",
   "metadata": {},
   "source": [
    "### Checking dates"
   ]
  },
  {
   "cell_type": "code",
   "execution_count": 16,
   "id": "a49f93ab-192c-4b9d-b5ec-835699957109",
   "metadata": {},
   "outputs": [
    {
     "name": "stdout",
     "output_type": "stream",
     "text": [
      "['2003/4' '2010/11' '2010/12' '2011/1' '2011/2' '2011/3' '2011/4' '2011/5'\n",
      " '2011/6' '2011/8' '2011/9' '2011/11' '2011/12' '2012/2' '2012/3' '2012/4'\n",
      " '2012/5' '2012/6' '2012/7' '2012/8' '2012/10' '2013/5' '2014/9' '2014/11'\n",
      " '2014/12' '2015/2' '2015/3']\n"
     ]
    }
   ],
   "source": [
    "print(data.date.unique())"
   ]
  },
  {
   "cell_type": "markdown",
   "id": "42b0282f-2cdf-4770-a4c9-69b389afa683",
   "metadata": {},
   "source": [
    "### Tidying up messages themselves"
   ]
  },
  {
   "cell_type": "code",
   "execution_count": 18,
   "id": "1db8e535-8c08-49c1-808b-25600541e32c",
   "metadata": {},
   "outputs": [
    {
     "name": "stdout",
     "output_type": "stream",
     "text": [
      "m thinking of u... So wat r u doing?\n"
     ]
    }
   ],
   "source": [
    "print(data.message[564])"
   ]
  },
  {
   "cell_type": "code",
   "execution_count": 19,
   "id": "e6f75ee4-3de1-400e-9b23-e55fd827524f",
   "metadata": {},
   "outputs": [
    {
     "name": "stdout",
     "output_type": "stream",
     "text": [
      "45005    Cao baby...sleeping? When you wake up call me,...\n",
      "45006                    Tnx. Ill be there <#> pas <#> :-)\n",
      "45007    Dude check out when we start tomorow if you ar...\n",
      "45008                          Whats wrong? Are you angry?\n",
      "45009            I love you too my baby, ill always do! <3\n",
      "Name: message, dtype: object\n"
     ]
    }
   ],
   "source": [
    "print(data.message[data.country == \"Slovenia\"].head())"
   ]
  },
  {
   "cell_type": "code",
   "execution_count": 20,
   "id": "570670dc-600a-4cc9-b84b-f1b0bc7ef01a",
   "metadata": {},
   "outputs": [],
   "source": [
    "import nltk\n",
    "from nltk.tokenize import word_tokenize, sent_tokenize, RegexpTokenizer\n",
    "from nltk.stem import PorterStemmer, WordNetLemmatizer\n",
    "from nltk.tag import pos_tag\n",
    "from nltk import FreqDist, ngrams\n",
    "from nltk.corpus import stopwords, wordnet\n",
    "\n",
    "import string"
   ]
  },
  {
   "cell_type": "code",
   "execution_count": 21,
   "id": "bd78177d-3537-4d8b-b001-b117a72b697b",
   "metadata": {},
   "outputs": [
    {
     "name": "stdout",
     "output_type": "stream",
     "text": [
      "Leona birthday on sun we meeting on fri for dinner u free ?\n",
      "['Leona', 'birthday', 'on', 'sun', 'we', 'meeting', 'on', 'fri', 'for', 'dinner', 'u', 'free', '?']\n"
     ]
    }
   ],
   "source": [
    "print(data.message[1234])\n",
    "print(word_tokenize(data.message[1234]))"
   ]
  },
  {
   "cell_type": "code",
   "execution_count": 22,
   "id": "07aa3312-1950-42c0-8e3f-c51b42d6c40e",
   "metadata": {},
   "outputs": [],
   "source": [
    "data[\"message\"] = data[\"message\"].astype(str)\n",
    "data[\"tokens\"] = data[\"message\"].str.lower().apply(word_tokenize)"
   ]
  },
  {
   "cell_type": "code",
   "execution_count": 23,
   "id": "cb756ea8-0e0b-41a5-b428-4b37d06f8ed5",
   "metadata": {},
   "outputs": [
    {
     "data": {
      "text/plain": [
       "id          int64\n",
       "message    object\n",
       "length      int32\n",
       "country    object\n",
       "date       object\n",
       "tokens     object\n",
       "dtype: object"
      ]
     },
     "execution_count": 23,
     "metadata": {},
     "output_type": "execute_result"
    }
   ],
   "source": [
    "data.head(3)\n",
    "data.dtypes"
   ]
  },
  {
   "cell_type": "code",
   "execution_count": 24,
   "id": "24cb7d28-44da-456c-865d-a24deb84c136",
   "metadata": {},
   "outputs": [],
   "source": [
    "stops = stopwords.words('english')\n",
    "more_stops = [\"u\", \"r\", \"..\", \"...\", \"la\", \"e\", \"wat\", \"go\", \"got\", \"'s\", \"ok\", \"n't\", \"ur\", \"okay\",\n",
    "    \"'m\", \"le\", \"hey\", \"going\", \"come\", \"oh\",\n",
    "    \"one\", \"see\", \"get\", \"wan\", \"like\", \"still\", \"want\", \"yeah\", \"hi\",\n",
    "    \"ya\", \"eh\", \"call\", \"lor\", \"na\", \"dun\", \"back\", \"today\", \"take\", \"day\", \"ah\", \"also\", \"n\", \"k\",\n",
    "    \"ask\", \"4\", \"tmr\", \"'ll\", \"free\", \"say\", \"already\", \"sure\", \"hee\", \"tell\", \"im\",\n",
    "    \"really\", \"let\", \"dont\", \"coming\", \"soon\", \"right\", \"make\", \"much\", \"yes\",\n",
    "    \"p\", \"b\", \"next\", \"den\", \"well\", \"dunno\", \"da\",\n",
    "    \"find\", \"night\", \"yup\", \"de\", \"thing\", \"way\", \"lo\", \"yet\",\n",
    "    \"msg\", \"long\", \"try\", \"min\", \"last\", \"sm\", \"lunch\", \"hmm\", \"maybe\",\n",
    "    \"ohh\", \"abt\", \"pls\", \"sch\", \"please\", \"reply\", \"week\",\n",
    "    \"said\", \"cant\", \"may\", \"end\", \"c\", \"co\", \"yo\", \"lot\", \"ca\", \"``\",\n",
    "    \"omg\", \"hai\", \"btw\", \"pls\", \"eh\", \"ya\", \"u\", \"dunno\", \"nvm\", \"ü\", \"lah\", \"....\",\n",
    "    \"''\", \"``\", \"2\", \"4\", \"1\", \"3\", \"5\", 'need', 'thanks', 'sm', 'guy', \"'re\", 'ok.', 'co', \"nan\"]\n",
    "all_stops = stops + more_stops + list(string.punctuation)\n",
    "drop_stops = lambda x: [token for token in x if token not in all_stops]\n",
    "data[\"tokens\"] = data[\"tokens\"].apply(drop_stops)"
   ]
  },
  {
   "cell_type": "code",
   "execution_count": 25,
   "id": "3d389b4b-facb-4572-995f-2761824f8291",
   "metadata": {},
   "outputs": [
    {
     "name": "stdout",
     "output_type": "stream",
     "text": [
      "['leona', 'birthday', 'sun', 'meeting', 'fri', 'dinner']\n",
      "['jurong', 'point', 'crazy', 'available', 'bugis', 'great', 'world', 'buffet', 'cine', 'amore']\n"
     ]
    },
    {
     "data": {
      "text/html": [
       "<div>\n",
       "<style scoped>\n",
       "    .dataframe tbody tr th:only-of-type {\n",
       "        vertical-align: middle;\n",
       "    }\n",
       "\n",
       "    .dataframe tbody tr th {\n",
       "        vertical-align: top;\n",
       "    }\n",
       "\n",
       "    .dataframe thead th {\n",
       "        text-align: right;\n",
       "    }\n",
       "</style>\n",
       "<table border=\"1\" class=\"dataframe\">\n",
       "  <thead>\n",
       "    <tr style=\"text-align: right;\">\n",
       "      <th></th>\n",
       "      <th>id</th>\n",
       "      <th>message</th>\n",
       "      <th>length</th>\n",
       "      <th>country</th>\n",
       "      <th>date</th>\n",
       "      <th>tokens</th>\n",
       "    </tr>\n",
       "  </thead>\n",
       "  <tbody>\n",
       "    <tr>\n",
       "      <th>0</th>\n",
       "      <td>10120</td>\n",
       "      <td>Bugis oso near wat...</td>\n",
       "      <td>21</td>\n",
       "      <td>Singapore</td>\n",
       "      <td>2003/4</td>\n",
       "      <td>[bugis, oso, near]</td>\n",
       "    </tr>\n",
       "    <tr>\n",
       "      <th>1</th>\n",
       "      <td>10121</td>\n",
       "      <td>Go until jurong point, crazy.. Available only ...</td>\n",
       "      <td>111</td>\n",
       "      <td>Singapore</td>\n",
       "      <td>2003/4</td>\n",
       "      <td>[jurong, point, crazy, available, bugis, great...</td>\n",
       "    </tr>\n",
       "    <tr>\n",
       "      <th>2</th>\n",
       "      <td>10122</td>\n",
       "      <td>I dunno until when... Lets go learn pilates...</td>\n",
       "      <td>46</td>\n",
       "      <td>Singapore</td>\n",
       "      <td>2003/4</td>\n",
       "      <td>[lets, learn, pilates]</td>\n",
       "    </tr>\n",
       "  </tbody>\n",
       "</table>\n",
       "</div>"
      ],
      "text/plain": [
       "      id                                            message  length  \\\n",
       "0  10120                              Bugis oso near wat...      21   \n",
       "1  10121  Go until jurong point, crazy.. Available only ...     111   \n",
       "2  10122     I dunno until when... Lets go learn pilates...      46   \n",
       "\n",
       "     country    date                                             tokens  \n",
       "0  Singapore  2003/4                                 [bugis, oso, near]  \n",
       "1  Singapore  2003/4  [jurong, point, crazy, available, bugis, great...  \n",
       "2  Singapore  2003/4                             [lets, learn, pilates]  "
      ]
     },
     "execution_count": 25,
     "metadata": {},
     "output_type": "execute_result"
    }
   ],
   "source": [
    "print(data.tokens[1234])\n",
    "print(data.tokens[1])\n",
    "data.head(3)"
   ]
  },
  {
   "cell_type": "code",
   "execution_count": 26,
   "id": "f68a4fc8-0d8d-4363-b8cd-5dbdb9ef634a",
   "metadata": {},
   "outputs": [],
   "source": [
    "lemmatizer = WordNetLemmatizer()\n",
    "data[\"lemmas\"] = data[\"tokens\"].apply(lambda tokens: [lemmatizer.lemmatize(token) for token in tokens])"
   ]
  },
  {
   "cell_type": "code",
   "execution_count": 27,
   "id": "27bcd64b-4d13-42cb-9528-f0e2b1d48f99",
   "metadata": {},
   "outputs": [
    {
     "name": "stdout",
     "output_type": "stream",
     "text": [
      "['jurong', 'point', 'crazy', 'available', 'bugis', 'great', 'world', 'buffet', 'cine', 'amore']\n"
     ]
    },
    {
     "data": {
      "text/html": [
       "<div>\n",
       "<style scoped>\n",
       "    .dataframe tbody tr th:only-of-type {\n",
       "        vertical-align: middle;\n",
       "    }\n",
       "\n",
       "    .dataframe tbody tr th {\n",
       "        vertical-align: top;\n",
       "    }\n",
       "\n",
       "    .dataframe thead th {\n",
       "        text-align: right;\n",
       "    }\n",
       "</style>\n",
       "<table border=\"1\" class=\"dataframe\">\n",
       "  <thead>\n",
       "    <tr style=\"text-align: right;\">\n",
       "      <th></th>\n",
       "      <th>id</th>\n",
       "      <th>message</th>\n",
       "      <th>length</th>\n",
       "      <th>country</th>\n",
       "      <th>date</th>\n",
       "      <th>tokens</th>\n",
       "      <th>lemmas</th>\n",
       "    </tr>\n",
       "  </thead>\n",
       "  <tbody>\n",
       "    <tr>\n",
       "      <th>0</th>\n",
       "      <td>10120</td>\n",
       "      <td>Bugis oso near wat...</td>\n",
       "      <td>21</td>\n",
       "      <td>Singapore</td>\n",
       "      <td>2003/4</td>\n",
       "      <td>[bugis, oso, near]</td>\n",
       "      <td>[bugis, oso, near]</td>\n",
       "    </tr>\n",
       "    <tr>\n",
       "      <th>1</th>\n",
       "      <td>10121</td>\n",
       "      <td>Go until jurong point, crazy.. Available only ...</td>\n",
       "      <td>111</td>\n",
       "      <td>Singapore</td>\n",
       "      <td>2003/4</td>\n",
       "      <td>[jurong, point, crazy, available, bugis, great...</td>\n",
       "      <td>[jurong, point, crazy, available, bugis, great...</td>\n",
       "    </tr>\n",
       "    <tr>\n",
       "      <th>2</th>\n",
       "      <td>10122</td>\n",
       "      <td>I dunno until when... Lets go learn pilates...</td>\n",
       "      <td>46</td>\n",
       "      <td>Singapore</td>\n",
       "      <td>2003/4</td>\n",
       "      <td>[lets, learn, pilates]</td>\n",
       "      <td>[let, learn, pilate]</td>\n",
       "    </tr>\n",
       "    <tr>\n",
       "      <th>3</th>\n",
       "      <td>10123</td>\n",
       "      <td>Den only weekdays got special price... Haiz......</td>\n",
       "      <td>140</td>\n",
       "      <td>Singapore</td>\n",
       "      <td>2003/4</td>\n",
       "      <td>[weekdays, special, price, haiz, eat, liao, cu...</td>\n",
       "      <td>[weekday, special, price, haiz, eat, liao, cut...</td>\n",
       "    </tr>\n",
       "    <tr>\n",
       "      <th>4</th>\n",
       "      <td>10124</td>\n",
       "      <td>Meet after lunch la...</td>\n",
       "      <td>22</td>\n",
       "      <td>Singapore</td>\n",
       "      <td>2003/4</td>\n",
       "      <td>[meet]</td>\n",
       "      <td>[meet]</td>\n",
       "    </tr>\n",
       "  </tbody>\n",
       "</table>\n",
       "</div>"
      ],
      "text/plain": [
       "      id                                            message  length  \\\n",
       "0  10120                              Bugis oso near wat...      21   \n",
       "1  10121  Go until jurong point, crazy.. Available only ...     111   \n",
       "2  10122     I dunno until when... Lets go learn pilates...      46   \n",
       "3  10123  Den only weekdays got special price... Haiz......     140   \n",
       "4  10124                             Meet after lunch la...      22   \n",
       "\n",
       "     country    date                                             tokens  \\\n",
       "0  Singapore  2003/4                                 [bugis, oso, near]   \n",
       "1  Singapore  2003/4  [jurong, point, crazy, available, bugis, great...   \n",
       "2  Singapore  2003/4                             [lets, learn, pilates]   \n",
       "3  Singapore  2003/4  [weekdays, special, price, haiz, eat, liao, cu...   \n",
       "4  Singapore  2003/4                                             [meet]   \n",
       "\n",
       "                                              lemmas  \n",
       "0                                 [bugis, oso, near]  \n",
       "1  [jurong, point, crazy, available, bugis, great...  \n",
       "2                               [let, learn, pilate]  \n",
       "3  [weekday, special, price, haiz, eat, liao, cut...  \n",
       "4                                             [meet]  "
      ]
     },
     "execution_count": 27,
     "metadata": {},
     "output_type": "execute_result"
    }
   ],
   "source": [
    "print(data.lemmas[1])\n",
    "data.head()"
   ]
  },
  {
   "cell_type": "code",
   "execution_count": 28,
   "id": "b67f0003-d8da-47be-b153-51b4280e9e3a",
   "metadata": {},
   "outputs": [
    {
     "name": "stdout",
     "output_type": "stream",
     "text": [
      "[('haha', 4868), ('lol', 2780), (nan, 2305), ('time', 1801), ('hahaha', 1271), ('home', 1201), ('think', 1157), ('good', 1138), ('later', 1127), ('know', 1114), ('meet', 1063), ('sorry', 1042), ('leh', 735), ('love', 728), ('eat', 685), ('late', 685), ('first', 679), ('dear', 632), ('liao', 574), ('buy', 572), ('happy', 532), ('send', 530), ('reach', 527), ('dinner', 525), ('decimal', 511), ('help', 498), ('wait', 476), ('work', 476), ('nice', 467), ('bus', 453), ('morning', 453), ('meeting', 441), ('bring', 409), ('sleep', 406), ('u', 397), ('hope', 381), ('house', 381), ('email', 379), ('check', 377), ('sm', 366), ('give', 365), ('new', 363), ('class', 359), ('tonight', 358), ('friend', 352), ('early', 320), ('co', 311), ('ha', 307), ('watch', 303), ('v', 302)]\n"
     ]
    }
   ],
   "source": [
    "flat_lemmas = data['lemmas'].explode()\n",
    "\n",
    "frequency = FreqDist(flat_lemmas)\n",
    "\n",
    "print(frequency.most_common(50))"
   ]
  },
  {
   "cell_type": "code",
   "execution_count": 29,
   "id": "7bf04444-71ff-4d29-b8d5-b5761bcfc56a",
   "metadata": {},
   "outputs": [
    {
     "name": "stdout",
     "output_type": "stream",
     "text": [
      "Most common in US messages: [(nan, 293), ('lol', 272), ('know', 264), ('time', 168), ('love', 167), ('sorry', 143), ('good', 140), ('haha', 134), ('think', 122), ('text', 95), ('great', 91), ('gon', 90), (\"'ve\", 90), ('=p', 90), ('home', 86), ('xp', 86), ('tomorrow', 85), ('would', 79), ('alright', 79), ('work', 76), ('around', 75), ('later', 68), ('could', 67), ('hope', 66), ('send', 64), ('stuff', 57), ('new', 57), ('phone', 57), ('name', 55), ('guy', 55), ('cool', 53), ('probably', 52), ('aight', 52), ('mom', 52), ('tonight', 51), ('nice', 50), (\"'d\", 50), ('meet', 49), ('people', 49), ('something', 48), ('talk', 47), ('fine', 47), ('number', 47), ('class', 47), ('better', 47), ('even', 46), ('late', 46), ('post', 46), ('thank', 45), ('dude', 45)]\n",
      "\n",
      "Most common in Indian messages: [(nan, 584), ('good', 198), ('dear', 152), ('gud', 133), ('know', 126), ('time', 126), ('happy', 125), ('sorry', 121), ('bhai', 119), ('life', 101), ('send', 98), ('love', 97), ('home', 96), ('kya', 93), ('nai', 85), ('tomorrow', 84), ('friend', 83), ('plz', 80), ('class', 75), ('care', 75), ('dat', 73), ('dnt', 72), ('decimal', 72), ('hav', 71), ('give', 70), ('ki', 70), ('nt', 69), ('tel', 68), ('work', 67), ('email', 67), ('meet', 66), ('nw', 64), ('morning', 63), ('think', 62), ('se', 62), ('sent', 60), ('sir', 58), ('bt', 58), ('talk', 57), ('later', 57), ('knw', 56), ('nice', 56), ('told', 55), ('room', 54), ('best', 53), ('wait', 51), ('leave', 51), ('always', 51), ('heart', 51), ('reach', 51)]\n"
     ]
    }
   ],
   "source": [
    "flat_US = data['lemmas'][data.country == \"United States\"].explode()\n",
    "flat_india = data['lemmas'][data.country == \"India\"].explode()\n",
    "\n",
    "freq_US = FreqDist(flat_US)\n",
    "\n",
    "freq_india = FreqDist(flat_india)\n",
    "\n",
    "print(f\"Most common in US messages: {freq_US.most_common(50)}\\n\")\n",
    "print(f\"Most common in Indian messages: {freq_india.most_common(50)}\")"
   ]
  },
  {
   "cell_type": "code",
   "execution_count": 30,
   "id": "7ec43a0b-b52b-4f88-8935-d71e90c16e9b",
   "metadata": {},
   "outputs": [
    {
     "data": {
      "text/plain": [
       "(46808, 7)"
      ]
     },
     "execution_count": 30,
     "metadata": {},
     "output_type": "execute_result"
    }
   ],
   "source": [
    "data.shape"
   ]
  },
  {
   "cell_type": "markdown",
   "id": "caefbf56-c1c0-4577-9c73-a107e82def99",
   "metadata": {},
   "source": [
    "## Analysis idea\n",
    "I will vectorize the messages, build a model, and train it on the data to predict the message's origin.\n",
    "\n",
    "Let's reduce it to treat the risk of data imbalance\n",
    "We'll be **predicting whether the message came from US or India**\n",
    "\n",
    "Then we can try unleashing it on full data, we'll see.\n",
    "\n",
    "We'll try following:\n",
    "* 1/ turning messages into vectors\n",
    "* 2/ applying decision trees / random forest / naive bayes on them"
   ]
  },
  {
   "cell_type": "code",
   "execution_count": 32,
   "id": "3f279830-3e8a-47ef-943d-f11ca481e231",
   "metadata": {},
   "outputs": [
    {
     "data": {
      "image/png": "[encoded data removed]",
      "text/plain": [
       "<Figure size 640x480 with 1 Axes>"
      ]
     },
     "metadata": {},
     "output_type": "display_data"
    }
   ],
   "source": [
    "sns.countplot(y=\"country\", data=filtered_countries)\n",
    "plt.show()"
   ]
  },
  {
   "cell_type": "markdown",
   "id": "67b3a029",
   "metadata": {},
   "source": [
    "### Adding vectors with spaCy"
   ]
  },
  {
   "cell_type": "code",
   "execution_count": 34,
   "id": "edacdfcd-8d43-4662-94d5-7f55ef01d2f7",
   "metadata": {},
   "outputs": [],
   "source": [
    "import spacy\n",
    "nlp = spacy.load('en_core_web_md', disable=[\"tagger\", \"parser\", \"ner\"])"
   ]
  },
  {
   "cell_type": "code",
   "execution_count": 35,
   "id": "39fd03d1-ddde-4765-adac-700e448fd6ef",
   "metadata": {},
   "outputs": [
    {
     "name": "stderr",
     "output_type": "stream",
     "text": [
      "C:\\Users\\HP\\anaconda\\Lib\\site-packages\\spacy\\pipeline\\lemmatizer.py:211: UserWarning: [W108] The rule-based lemmatizer did not find POS annotation for one or more tokens. Check that your pipeline includes components that assign token.pos, typically 'tagger'+'attribute_ruler' or 'morphologizer'.\n",
      "  warnings.warn(Warnings.W108)\n"
     ]
    }
   ],
   "source": [
    "sample = data.sample(100)\n",
    "sample[\"vectors\"] = sample[\"message\"].apply(lambda x: nlp(x).vector)"
   ]
  },
  {
   "cell_type": "code",
   "execution_count": 36,
   "id": "2ada2f1a",
   "metadata": {},
   "outputs": [
    {
     "data": {
      "text/plain": [
       "<bound method NDFrame.head of 22008    [-1.713754, 3.2434857, -4.173944, 0.49905592, ...\n",
       "36123    [-1.8782525, -0.5549363, -0.30206195, 0.778632...\n",
       "20364    [0.8993001, -2.026895, 1.9588499, 5.8731503, -...\n",
       "21490    [1.0750556, 1.2662994, -3.7812662, -1.8926104,...\n",
       "12566    [1.15971, 0.051289994, -1.8697333, -0.13667665...\n",
       "                               ...                        \n",
       "21436    [-0.26887554, 1.3061975, -1.6631663, -0.752951...\n",
       "39837    [-0.80276996, 1.1705277, -2.9324586, -1.479557...\n",
       "31299    [0.4261816, -0.030840801, -3.5981863, -0.40814...\n",
       "18190    [-0.28573257, 2.8515263, -5.43435, -0.9849749,...\n",
       "26301    [-0.48570853, -2.102355, -1.5573039, -1.374435...\n",
       "Name: vectors, Length: 100, dtype: object>"
      ]
     },
     "execution_count": 36,
     "metadata": {},
     "output_type": "execute_result"
    }
   ],
   "source": [
    "sample[\"vectors\"].head"
   ]
  },
  {
   "cell_type": "code",
   "execution_count": 37,
   "id": "ca5a777d",
   "metadata": {},
   "outputs": [
    {
     "data": {
      "text/plain": [
       "(12332, 7)"
      ]
     },
     "execution_count": 37,
     "metadata": {},
     "output_type": "execute_result"
    }
   ],
   "source": [
    "data_small = data[data.country.isin([\"United States\", \"India\"])].copy()\n",
    "data_small.shape"
   ]
  },
  {
   "cell_type": "code",
   "execution_count": 38,
   "id": "daa45167",
   "metadata": {},
   "outputs": [],
   "source": [
    "import warnings\n",
    "warnings.filterwarnings(\"ignore\", message=\"\\[W108\\]\")\n",
    "\n",
    "data_small[\"vectors\"] = data_small[\"message\"].apply(lambda x: nlp(x).vector)"
   ]
  },
  {
   "cell_type": "code",
   "execution_count": 39,
   "id": "aca13925",
   "metadata": {},
   "outputs": [
    {
     "data": {
      "text/html": [
       "<div>\n",
       "<style scoped>\n",
       "    .dataframe tbody tr th:only-of-type {\n",
       "        vertical-align: middle;\n",
       "    }\n",
       "\n",
       "    .dataframe tbody tr th {\n",
       "        vertical-align: top;\n",
       "    }\n",
       "\n",
       "    .dataframe thead th {\n",
       "        text-align: right;\n",
       "    }\n",
       "</style>\n",
       "<table border=\"1\" class=\"dataframe\">\n",
       "  <thead>\n",
       "    <tr style=\"text-align: right;\">\n",
       "      <th></th>\n",
       "      <th>id</th>\n",
       "      <th>message</th>\n",
       "      <th>length</th>\n",
       "      <th>country</th>\n",
       "      <th>date</th>\n",
       "      <th>tokens</th>\n",
       "      <th>lemmas</th>\n",
       "      <th>vectors</th>\n",
       "    </tr>\n",
       "  </thead>\n",
       "  <tbody>\n",
       "    <tr>\n",
       "      <th>9807</th>\n",
       "      <td>1</td>\n",
       "      <td>K</td>\n",
       "      <td>1</td>\n",
       "      <td>India</td>\n",
       "      <td>2010/11</td>\n",
       "      <td>[]</td>\n",
       "      <td>[]</td>\n",
       "      <td>[-1.1616, 9.0943, -3.4994, 2.181, -2.7306, 2.5...</td>\n",
       "    </tr>\n",
       "    <tr>\n",
       "      <th>9808</th>\n",
       "      <td>2</td>\n",
       "      <td>Studying?</td>\n",
       "      <td>9</td>\n",
       "      <td>India</td>\n",
       "      <td>2010/11</td>\n",
       "      <td>[studying]</td>\n",
       "      <td>[studying]</td>\n",
       "      <td>[-2.32237, 2.4294, -3.849465, -0.579255, -0.11...</td>\n",
       "    </tr>\n",
       "    <tr>\n",
       "      <th>9809</th>\n",
       "      <td>3</td>\n",
       "      <td>Vch photo</td>\n",
       "      <td>9</td>\n",
       "      <td>India</td>\n",
       "      <td>2010/11</td>\n",
       "      <td>[vch, photo]</td>\n",
       "      <td>[vch, photo]</td>\n",
       "      <td>[0.58115, -0.205815, -2.43995, -1.443, 1.5009,...</td>\n",
       "    </tr>\n",
       "    <tr>\n",
       "      <th>9810</th>\n",
       "      <td>4</td>\n",
       "      <td>K:-)ya i hav to finish</td>\n",
       "      <td>22</td>\n",
       "      <td>India</td>\n",
       "      <td>2010/11</td>\n",
       "      <td>[hav, finish]</td>\n",
       "      <td>[hav, finish]</td>\n",
       "      <td>[-1.1754, 4.16452, -2.03648, -3.6407304, -3.99...</td>\n",
       "    </tr>\n",
       "    <tr>\n",
       "      <th>9811</th>\n",
       "      <td>6</td>\n",
       "      <td>One senioq akka</td>\n",
       "      <td>15</td>\n",
       "      <td>India</td>\n",
       "      <td>2010/11</td>\n",
       "      <td>[senioq, akka]</td>\n",
       "      <td>[senioq, akka]</td>\n",
       "      <td>[-1.10136, -0.6691, 1.7301432, 0.36350998, 0.7...</td>\n",
       "    </tr>\n",
       "  </tbody>\n",
       "</table>\n",
       "</div>"
      ],
      "text/plain": [
       "      id                 message  length country     date          tokens  \\\n",
       "9807   1                       K       1   India  2010/11              []   \n",
       "9808   2               Studying?       9   India  2010/11      [studying]   \n",
       "9809   3               Vch photo       9   India  2010/11    [vch, photo]   \n",
       "9810   4  K:-)ya i hav to finish      22   India  2010/11   [hav, finish]   \n",
       "9811   6         One senioq akka      15   India  2010/11  [senioq, akka]   \n",
       "\n",
       "              lemmas                                            vectors  \n",
       "9807              []  [-1.1616, 9.0943, -3.4994, 2.181, -2.7306, 2.5...  \n",
       "9808      [studying]  [-2.32237, 2.4294, -3.849465, -0.579255, -0.11...  \n",
       "9809    [vch, photo]  [0.58115, -0.205815, -2.43995, -1.443, 1.5009,...  \n",
       "9810   [hav, finish]  [-1.1754, 4.16452, -2.03648, -3.6407304, -3.99...  \n",
       "9811  [senioq, akka]  [-1.10136, -0.6691, 1.7301432, 0.36350998, 0.7...  "
      ]
     },
     "execution_count": 39,
     "metadata": {},
     "output_type": "execute_result"
    }
   ],
   "source": [
    "data_small.head()"
   ]
  },
  {
   "cell_type": "code",
   "execution_count": 40,
   "id": "899b1689",
   "metadata": {},
   "outputs": [],
   "source": [
    "import numpy as np\n",
    "\n",
    "data_small['vector_avg'] = data_small['vectors'].apply(\n",
    "    lambda x: np.mean(x)\n",
    ").astype(float)\n",
    "data_small['country_label'] = data_small['country'].apply(lambda x: 0 if x == 'United States' else 1)"
   ]
  },
  {
   "cell_type": "code",
   "execution_count": 41,
   "id": "f2c42d9e",
   "metadata": {},
   "outputs": [
    {
     "data": {
      "text/html": [
       "<div>\n",
       "<style scoped>\n",
       "    .dataframe tbody tr th:only-of-type {\n",
       "        vertical-align: middle;\n",
       "    }\n",
       "\n",
       "    .dataframe tbody tr th {\n",
       "        vertical-align: top;\n",
       "    }\n",
       "\n",
       "    .dataframe thead th {\n",
       "        text-align: right;\n",
       "    }\n",
       "</style>\n",
       "<table border=\"1\" class=\"dataframe\">\n",
       "  <thead>\n",
       "    <tr style=\"text-align: right;\">\n",
       "      <th></th>\n",
       "      <th>id</th>\n",
       "      <th>message</th>\n",
       "      <th>length</th>\n",
       "      <th>country</th>\n",
       "      <th>date</th>\n",
       "      <th>tokens</th>\n",
       "      <th>lemmas</th>\n",
       "      <th>vectors</th>\n",
       "      <th>vector_avg</th>\n",
       "      <th>country_label</th>\n",
       "    </tr>\n",
       "  </thead>\n",
       "  <tbody>\n",
       "    <tr>\n",
       "      <th>9807</th>\n",
       "      <td>1</td>\n",
       "      <td>K</td>\n",
       "      <td>1</td>\n",
       "      <td>India</td>\n",
       "      <td>2010/11</td>\n",
       "      <td>[]</td>\n",
       "      <td>[]</td>\n",
       "      <td>[-1.1616, 9.0943, -3.4994, 2.181, -2.7306, 2.5...</td>\n",
       "      <td>0.495133</td>\n",
       "      <td>1</td>\n",
       "    </tr>\n",
       "    <tr>\n",
       "      <th>9808</th>\n",
       "      <td>2</td>\n",
       "      <td>Studying?</td>\n",
       "      <td>9</td>\n",
       "      <td>India</td>\n",
       "      <td>2010/11</td>\n",
       "      <td>[studying]</td>\n",
       "      <td>[studying]</td>\n",
       "      <td>[-2.32237, 2.4294, -3.849465, -0.579255, -0.11...</td>\n",
       "      <td>-0.235789</td>\n",
       "      <td>1</td>\n",
       "    </tr>\n",
       "    <tr>\n",
       "      <th>9809</th>\n",
       "      <td>3</td>\n",
       "      <td>Vch photo</td>\n",
       "      <td>9</td>\n",
       "      <td>India</td>\n",
       "      <td>2010/11</td>\n",
       "      <td>[vch, photo]</td>\n",
       "      <td>[vch, photo]</td>\n",
       "      <td>[0.58115, -0.205815, -2.43995, -1.443, 1.5009,...</td>\n",
       "      <td>0.018892</td>\n",
       "      <td>1</td>\n",
       "    </tr>\n",
       "    <tr>\n",
       "      <th>9810</th>\n",
       "      <td>4</td>\n",
       "      <td>K:-)ya i hav to finish</td>\n",
       "      <td>22</td>\n",
       "      <td>India</td>\n",
       "      <td>2010/11</td>\n",
       "      <td>[hav, finish]</td>\n",
       "      <td>[hav, finish]</td>\n",
       "      <td>[-1.1754, 4.16452, -2.03648, -3.6407304, -3.99...</td>\n",
       "      <td>-0.179939</td>\n",
       "      <td>1</td>\n",
       "    </tr>\n",
       "    <tr>\n",
       "      <th>9811</th>\n",
       "      <td>6</td>\n",
       "      <td>One senioq akka</td>\n",
       "      <td>15</td>\n",
       "      <td>India</td>\n",
       "      <td>2010/11</td>\n",
       "      <td>[senioq, akka]</td>\n",
       "      <td>[senioq, akka]</td>\n",
       "      <td>[-1.10136, -0.6691, 1.7301432, 0.36350998, 0.7...</td>\n",
       "      <td>-0.073851</td>\n",
       "      <td>1</td>\n",
       "    </tr>\n",
       "  </tbody>\n",
       "</table>\n",
       "</div>"
      ],
      "text/plain": [
       "      id                 message  length country     date          tokens  \\\n",
       "9807   1                       K       1   India  2010/11              []   \n",
       "9808   2               Studying?       9   India  2010/11      [studying]   \n",
       "9809   3               Vch photo       9   India  2010/11    [vch, photo]   \n",
       "9810   4  K:-)ya i hav to finish      22   India  2010/11   [hav, finish]   \n",
       "9811   6         One senioq akka      15   India  2010/11  [senioq, akka]   \n",
       "\n",
       "              lemmas                                            vectors  \\\n",
       "9807              []  [-1.1616, 9.0943, -3.4994, 2.181, -2.7306, 2.5...   \n",
       "9808      [studying]  [-2.32237, 2.4294, -3.849465, -0.579255, -0.11...   \n",
       "9809    [vch, photo]  [0.58115, -0.205815, -2.43995, -1.443, 1.5009,...   \n",
       "9810   [hav, finish]  [-1.1754, 4.16452, -2.03648, -3.6407304, -3.99...   \n",
       "9811  [senioq, akka]  [-1.10136, -0.6691, 1.7301432, 0.36350998, 0.7...   \n",
       "\n",
       "      vector_avg  country_label  \n",
       "9807    0.495133              1  \n",
       "9808   -0.235789              1  \n",
       "9809    0.018892              1  \n",
       "9810   -0.179939              1  \n",
       "9811   -0.073851              1  "
      ]
     },
     "execution_count": 41,
     "metadata": {},
     "output_type": "execute_result"
    }
   ],
   "source": [
    "data_small.head()"
   ]
  },
  {
   "cell_type": "code",
   "execution_count": 42,
   "id": "b823a814",
   "metadata": {},
   "outputs": [
    {
     "data": {
      "text/html": [
       "<div>\n",
       "<style scoped>\n",
       "    .dataframe tbody tr th:only-of-type {\n",
       "        vertical-align: middle;\n",
       "    }\n",
       "\n",
       "    .dataframe tbody tr th {\n",
       "        vertical-align: top;\n",
       "    }\n",
       "\n",
       "    .dataframe thead th {\n",
       "        text-align: right;\n",
       "    }\n",
       "</style>\n",
       "<table border=\"1\" class=\"dataframe\">\n",
       "  <thead>\n",
       "    <tr style=\"text-align: right;\">\n",
       "      <th></th>\n",
       "      <th>country_label</th>\n",
       "      <th>vector_avg</th>\n",
       "    </tr>\n",
       "  </thead>\n",
       "  <tbody>\n",
       "    <tr>\n",
       "      <th>9807</th>\n",
       "      <td>1</td>\n",
       "      <td>0.495133</td>\n",
       "    </tr>\n",
       "    <tr>\n",
       "      <th>9808</th>\n",
       "      <td>1</td>\n",
       "      <td>-0.235789</td>\n",
       "    </tr>\n",
       "    <tr>\n",
       "      <th>9809</th>\n",
       "      <td>1</td>\n",
       "      <td>0.018892</td>\n",
       "    </tr>\n",
       "    <tr>\n",
       "      <th>9810</th>\n",
       "      <td>1</td>\n",
       "      <td>-0.179939</td>\n",
       "    </tr>\n",
       "    <tr>\n",
       "      <th>9811</th>\n",
       "      <td>1</td>\n",
       "      <td>-0.073851</td>\n",
       "    </tr>\n",
       "  </tbody>\n",
       "</table>\n",
       "</div>"
      ],
      "text/plain": [
       "      country_label  vector_avg\n",
       "9807              1    0.495133\n",
       "9808              1   -0.235789\n",
       "9809              1    0.018892\n",
       "9810              1   -0.179939\n",
       "9811              1   -0.073851"
      ]
     },
     "execution_count": 42,
     "metadata": {},
     "output_type": "execute_result"
    }
   ],
   "source": [
    "data_vect = data_small[[\"country_label\", \"vector_avg\"]]\n",
    "data_vect.head()"
   ]
  },
  {
   "cell_type": "code",
   "execution_count": 43,
   "id": "1f695ef3",
   "metadata": {},
   "outputs": [
    {
     "data": {
      "image/png": "[encoded data removed]",
      "text/plain": [
       "<Figure size 640x480 with 1 Axes>"
      ]
     },
     "metadata": {},
     "output_type": "display_data"
    }
   ],
   "source": [
    "sns.countplot(x=\"country_label\", data=data_vect)\n",
    "plt.show()"
   ]
  },
  {
   "cell_type": "markdown",
   "id": "e6df257e",
   "metadata": {},
   "source": [
    "We have a sampled data with codes for US and India and averaged value of message vectors.\n",
    "\n",
    "### Let's grow some trees"
   ]
  },
  {
   "cell_type": "code",
   "execution_count": 45,
   "id": "319acccf",
   "metadata": {},
   "outputs": [],
   "source": [
    "from sklearn.tree import DecisionTreeClassifier\n",
    "from sklearn.ensemble import RandomForestClassifier\n",
    "from sklearn.model_selection import train_test_split\n",
    "from sklearn.metrics import accuracy_score, f1_score\n",
    "\n",
    "df = data_vect.copy()\n",
    "\n",
    "X = df.drop(\"country_label\", axis=1)\n",
    "y = df[\"country_label\"]"
   ]
  },
  {
   "cell_type": "code",
   "execution_count": 46,
   "id": "c9d9d7c5",
   "metadata": {},
   "outputs": [],
   "source": [
    "def make_tree(X, y, df):\n",
    "    X_train, X_test, y_train, y_test = train_test_split(X, y, test_size=0.2, random_state = 42)\n",
    "    \n",
    "    tree = DecisionTreeClassifier(random_state = 42, max_depth=8, criterion=\"gini\")\n",
    "    tree.fit(X_train, y_train)\n",
    "\n",
    "    predictions = tree.predict(X_test)\n",
    "\n",
    "    print(f\"Accuracy score: {accuracy_score(y_test, predictions)}\")\n",
    "    print(f\"F1 score: {f1_score(y_test, predictions)}\")"
   ]
  },
  {
   "cell_type": "code",
   "execution_count": 47,
   "id": "feaf25aa",
   "metadata": {},
   "outputs": [
    {
     "name": "stdout",
     "output_type": "stream",
     "text": [
      "Accuracy score: 0.5638427239562221\n",
      "F1 score: 0.6846424384525205\n"
     ]
    }
   ],
   "source": [
    "make_tree(X, y, df)"
   ]
  },
  {
   "cell_type": "code",
   "execution_count": 48,
   "id": "0f9063a5",
   "metadata": {},
   "outputs": [],
   "source": [
    "def make_forest(X, y, df):\n",
    "    X_train, X_test, y_train, y_test = train_test_split(X, y, test_size=0.2, random_state = 42)\n",
    "    \n",
    "    forest = RandomForestClassifier(max_depth=5, min_samples_leaf=1, min_samples_split=20, n_estimators=100)\n",
    "    forest.fit(X_train, y_train)\n",
    "\n",
    "    predictions = forest.predict(X_test)\n",
    "\n",
    "    print(f\"Accuracy score: {accuracy_score(y_test, predictions)}\")\n",
    "    print(f\"F1 score: {f1_score(y_test, predictions)}\")"
   ]
  },
  {
   "cell_type": "code",
   "execution_count": 49,
   "id": "dd3586f5",
   "metadata": {},
   "outputs": [
    {
     "name": "stdout",
     "output_type": "stream",
     "text": [
      "Accuracy score: 0.5723550871503851\n",
      "F1 score: 0.686850697536361\n"
     ]
    }
   ],
   "source": [
    "make_forest(X, y, df)"
   ]
  },
  {
   "cell_type": "markdown",
   "id": "ba9d6d64",
   "metadata": {},
   "source": [
    "### Playing with other vector and Naïve Bayes who can read them"
   ]
  },
  {
   "cell_type": "code",
   "execution_count": 51,
   "id": "4a9531be",
   "metadata": {},
   "outputs": [],
   "source": [
    "import re\n",
    "def clean_text(text):\n",
    "    text = re.sub(r'[^a-zA-Z\\s]', '', text)\n",
    "    return text.lower()\n",
    "\n",
    "data_small['cleaned_message'] = data_small['message'].apply(clean_text)"
   ]
  },
  {
   "cell_type": "code",
   "execution_count": 52,
   "id": "ea3d91f0",
   "metadata": {},
   "outputs": [
    {
     "data": {
      "text/html": [
       "<div>\n",
       "<style scoped>\n",
       "    .dataframe tbody tr th:only-of-type {\n",
       "        vertical-align: middle;\n",
       "    }\n",
       "\n",
       "    .dataframe tbody tr th {\n",
       "        vertical-align: top;\n",
       "    }\n",
       "\n",
       "    .dataframe thead th {\n",
       "        text-align: right;\n",
       "    }\n",
       "</style>\n",
       "<table border=\"1\" class=\"dataframe\">\n",
       "  <thead>\n",
       "    <tr style=\"text-align: right;\">\n",
       "      <th></th>\n",
       "      <th>id</th>\n",
       "      <th>message</th>\n",
       "      <th>length</th>\n",
       "      <th>country</th>\n",
       "      <th>date</th>\n",
       "      <th>tokens</th>\n",
       "      <th>lemmas</th>\n",
       "      <th>vectors</th>\n",
       "      <th>vector_avg</th>\n",
       "      <th>country_label</th>\n",
       "      <th>cleaned_message</th>\n",
       "      <th>tfidf</th>\n",
       "    </tr>\n",
       "  </thead>\n",
       "  <tbody>\n",
       "    <tr>\n",
       "      <th>9807</th>\n",
       "      <td>1</td>\n",
       "      <td>K</td>\n",
       "      <td>1</td>\n",
       "      <td>India</td>\n",
       "      <td>2010/11</td>\n",
       "      <td>[]</td>\n",
       "      <td>[]</td>\n",
       "      <td>[-1.1616, 9.0943, -3.4994, 2.181, -2.7306, 2.5...</td>\n",
       "      <td>0.495133</td>\n",
       "      <td>1</td>\n",
       "      <td>k</td>\n",
       "      <td>[0.0, 0.0, 0.0, 0.0, 0.0, 0.0, 0.0, 0.0, 0.0, ...</td>\n",
       "    </tr>\n",
       "    <tr>\n",
       "      <th>9808</th>\n",
       "      <td>2</td>\n",
       "      <td>Studying?</td>\n",
       "      <td>9</td>\n",
       "      <td>India</td>\n",
       "      <td>2010/11</td>\n",
       "      <td>[studying]</td>\n",
       "      <td>[studying]</td>\n",
       "      <td>[-2.32237, 2.4294, -3.849465, -0.579255, -0.11...</td>\n",
       "      <td>-0.235789</td>\n",
       "      <td>1</td>\n",
       "      <td>studying</td>\n",
       "      <td>[0.0, 0.0, 0.0, 0.0, 0.0, 0.0, 0.0, 0.0, 0.0, ...</td>\n",
       "    </tr>\n",
       "    <tr>\n",
       "      <th>9809</th>\n",
       "      <td>3</td>\n",
       "      <td>Vch photo</td>\n",
       "      <td>9</td>\n",
       "      <td>India</td>\n",
       "      <td>2010/11</td>\n",
       "      <td>[vch, photo]</td>\n",
       "      <td>[vch, photo]</td>\n",
       "      <td>[0.58115, -0.205815, -2.43995, -1.443, 1.5009,...</td>\n",
       "      <td>0.018892</td>\n",
       "      <td>1</td>\n",
       "      <td>vch photo</td>\n",
       "      <td>[0.0, 0.0, 0.0, 0.0, 0.0, 0.0, 0.0, 0.0, 0.0, ...</td>\n",
       "    </tr>\n",
       "    <tr>\n",
       "      <th>9810</th>\n",
       "      <td>4</td>\n",
       "      <td>K:-)ya i hav to finish</td>\n",
       "      <td>22</td>\n",
       "      <td>India</td>\n",
       "      <td>2010/11</td>\n",
       "      <td>[hav, finish]</td>\n",
       "      <td>[hav, finish]</td>\n",
       "      <td>[-1.1754, 4.16452, -2.03648, -3.6407304, -3.99...</td>\n",
       "      <td>-0.179939</td>\n",
       "      <td>1</td>\n",
       "      <td>kya i hav to finish</td>\n",
       "      <td>[0.0, 0.0, 0.0, 0.0, 0.0, 0.0, 0.0, 0.0, 0.0, ...</td>\n",
       "    </tr>\n",
       "    <tr>\n",
       "      <th>9811</th>\n",
       "      <td>6</td>\n",
       "      <td>One senioq akka</td>\n",
       "      <td>15</td>\n",
       "      <td>India</td>\n",
       "      <td>2010/11</td>\n",
       "      <td>[senioq, akka]</td>\n",
       "      <td>[senioq, akka]</td>\n",
       "      <td>[-1.10136, -0.6691, 1.7301432, 0.36350998, 0.7...</td>\n",
       "      <td>-0.073851</td>\n",
       "      <td>1</td>\n",
       "      <td>one senioq akka</td>\n",
       "      <td>[0.0, 0.0, 0.0, 0.0, 0.0, 0.0, 0.0, 0.0, 0.0, ...</td>\n",
       "    </tr>\n",
       "  </tbody>\n",
       "</table>\n",
       "</div>"
      ],
      "text/plain": [
       "      id                 message  length country     date          tokens  \\\n",
       "9807   1                       K       1   India  2010/11              []   \n",
       "9808   2               Studying?       9   India  2010/11      [studying]   \n",
       "9809   3               Vch photo       9   India  2010/11    [vch, photo]   \n",
       "9810   4  K:-)ya i hav to finish      22   India  2010/11   [hav, finish]   \n",
       "9811   6         One senioq akka      15   India  2010/11  [senioq, akka]   \n",
       "\n",
       "              lemmas                                            vectors  \\\n",
       "9807              []  [-1.1616, 9.0943, -3.4994, 2.181, -2.7306, 2.5...   \n",
       "9808      [studying]  [-2.32237, 2.4294, -3.849465, -0.579255, -0.11...   \n",
       "9809    [vch, photo]  [0.58115, -0.205815, -2.43995, -1.443, 1.5009,...   \n",
       "9810   [hav, finish]  [-1.1754, 4.16452, -2.03648, -3.6407304, -3.99...   \n",
       "9811  [senioq, akka]  [-1.10136, -0.6691, 1.7301432, 0.36350998, 0.7...   \n",
       "\n",
       "      vector_avg  country_label      cleaned_message  \\\n",
       "9807    0.495133              1                    k   \n",
       "9808   -0.235789              1             studying   \n",
       "9809    0.018892              1            vch photo   \n",
       "9810   -0.179939              1  kya i hav to finish   \n",
       "9811   -0.073851              1      one senioq akka   \n",
       "\n",
       "                                                  tfidf  \n",
       "9807  [0.0, 0.0, 0.0, 0.0, 0.0, 0.0, 0.0, 0.0, 0.0, ...  \n",
       "9808  [0.0, 0.0, 0.0, 0.0, 0.0, 0.0, 0.0, 0.0, 0.0, ...  \n",
       "9809  [0.0, 0.0, 0.0, 0.0, 0.0, 0.0, 0.0, 0.0, 0.0, ...  \n",
       "9810  [0.0, 0.0, 0.0, 0.0, 0.0, 0.0, 0.0, 0.0, 0.0, ...  \n",
       "9811  [0.0, 0.0, 0.0, 0.0, 0.0, 0.0, 0.0, 0.0, 0.0, ...  "
      ]
     },
     "execution_count": 52,
     "metadata": {},
     "output_type": "execute_result"
    }
   ],
   "source": [
    "from sklearn.feature_extraction.text import TfidfVectorizer\n",
    "\n",
    "tfidf_vectorizer = TfidfVectorizer()\n",
    "\n",
    "data_small['tfidf'] = list(tfidf_vectorizer.fit_transform(data_small['cleaned_message']).toarray())\n",
    "\n",
    "data_small.head()"
   ]
  },
  {
   "cell_type": "code",
   "execution_count": 53,
   "id": "d1c65ce3",
   "metadata": {
    "tags": []
   },
   "outputs": [],
   "source": [
    "X = tfidf_vectorizer.fit_transform(data_small[\"cleaned_message\"])  # X is already sparse\n",
    "y = data_small[\"country_label\"]"
   ]
  },
  {
   "cell_type": "code",
   "execution_count": 98,
   "id": "310466ca-d6cc-4409-b9c7-8f3c0b6f8646",
   "metadata": {
    "tags": []
   },
   "outputs": [
    {
     "ename": "SyntaxError",
     "evalue": "closing parenthesis ']' does not match opening parenthesis '(' (1061904830.py, line 5)",
     "output_type": "error",
     "traceback": [
      "\u001b[1;36m  Cell \u001b[1;32mIn[98], line 5\u001b[1;36m\u001b[0m\n\u001b[1;33m    X_train, X_test, y_train, y_test = train_test_split(X, y], test_size=0.2, random_state=42)\u001b[0m\n\u001b[1;37m                                                            ^\u001b[0m\n\u001b[1;31mSyntaxError\u001b[0m\u001b[1;31m:\u001b[0m closing parenthesis ']' does not match opening parenthesis '('\n"
     ]
    }
   ],
   "source": [
    "from sklearn.naive_bayes import MultinomialNB\n",
    "\n",
    "def get_naive(X, y):\n",
    "    from sklearn.model_selection import train_test_split\n",
    "    X_train, X_test, y_train, y_test = train_test_split(X, y], test_size=0.2, random_state=42)\n",
    "    \n",
    "    naive = MultinomialNB()\n",
    "    naive.fit(X_train, y_train)\n",
    "\n",
    "    y_pred = nb_classifier.predict(X_test)\n",
    "\n",
    "    print(f\"Accuracy: {accuracy_score(y_test, y_pred)}\")\n",
    "    print(f\"F1: {f1_score(y_test, y_pred)}\")"
   ]
  }
 ],
 "metadata": {
  "kernelspec": {
   "display_name": "Python 3 (ipykernel)",
   "language": "python",
   "name": "python3"
  },
  "language_info": {
   "codemirror_mode": {
    "name": "ipython",
    "version": 3
   },
   "file_extension": ".py",
   "mimetype": "text/x-python",
   "name": "python",
   "nbconvert_exporter": "python",
   "pygments_lexer": "ipython3",
   "version": "3.11.5"
  }
 },
 "nbformat": 4,
 "nbformat_minor": 5
}
